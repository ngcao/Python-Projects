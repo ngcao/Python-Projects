{
 "cells": [
  {
   "cell_type": "markdown",
   "metadata": {},
   "source": [
    "### 1) Recap\n",
    "\n",
    "In the last mission, we explored how to use a simple k-nearest neighbors machine learning model that used just one feature, or attribute, of the listing to predict the rent price. We first relied on the accommodates column, which describes the number of people a living space can comfortably accommodate. Then, we switched to the bathrooms column and observed an improvement in accuracy. While these were good features to become familiar with the basics of machine learning, it's clear that using just a single feature to compare listings doesn't reflect the reality of the market. An apartment that can accommodate 4 guests in a popular part of Washington D.C. will rent for much higher than one that can accommodate 4 guests in a crime ridden area.\n",
    "\n",
    "There are 2 ways we can tweak the model to try to improve the accuracy (decrease the RMSE during validation):\n",
    "\n",
    "+ increase the number of attributes the model uses to calculate similarity when ranking the closest neighbors\n",
    "+ increase k, the number of nearby neighbors the model uses when computing the prediction\n",
    "\n",
    "In this mission, we'll focus on increasing the number of attributes the model uses. When selecting more attributes to use in the model, we need to watch out for columns that don't work well with the distance equation. This includes columns containing:\n",
    "\n",
    "+ non-numerical values (e.g. city or state)\n",
    "    + Euclidean distance equation expects numerical values\n",
    "+ missing values\n",
    "    + distance equation expects a value for each observation and attribute\n",
    "+ non-ordinal values (e.g. latitude or longitude)\n",
    "    + ranking by Euclidean distance doesn't make sense if all attributes aren't ordinal\n",
    "    \n",
    "In the following code screen, we've read the dc_airbnb.csv dataset from the last mission into pandas and brought over the data cleaning changes we made. Let's first look at the first row's values to identify any columns containing non-numerical or non-ordinal values. In the next screen, we'll drop those columns and then look for missing values in each of the remaining columns."
   ]
  },
  {
   "cell_type": "code",
   "execution_count": 20,
   "metadata": {},
   "outputs": [
    {
     "name": "stdout",
     "output_type": "stream",
     "text": [
      "<class 'pandas.core.frame.DataFrame'>\n",
      "Int64Index: 3723 entries, 574 to 1061\n",
      "Data columns (total 19 columns):\n",
      "host_response_rate      3289 non-null object\n",
      "host_acceptance_rate    3109 non-null object\n",
      "host_listings_count     3723 non-null int64\n",
      "accommodates            3723 non-null int64\n",
      "room_type               3723 non-null object\n",
      "bedrooms                3702 non-null float64\n",
      "bathrooms               3696 non-null float64\n",
      "beds                    3712 non-null float64\n",
      "price                   3723 non-null float64\n",
      "cleaning_fee            2335 non-null object\n",
      "security_deposit        1426 non-null object\n",
      "minimum_nights          3723 non-null int64\n",
      "maximum_nights          3723 non-null int64\n",
      "number_of_reviews       3723 non-null int64\n",
      "latitude                3723 non-null float64\n",
      "longitude               3723 non-null float64\n",
      "city                    3723 non-null object\n",
      "zipcode                 3714 non-null object\n",
      "state                   3723 non-null object\n",
      "dtypes: float64(6), int64(5), object(8)\n",
      "memory usage: 581.7+ KB\n"
     ]
    }
   ],
   "source": [
    "import pandas as pd\n",
    "import numpy as np\n",
    "np.random.seed(1)\n",
    "\n",
    "dc_listings = pd.read_csv('dc_airbnb.csv')\n",
    "dc_listings = dc_listings.loc[np.random.permutation(len(dc_listings))]\n",
    "stripped_commas = dc_listings['price'].str.replace(',','')\n",
    "stripped_dollars = stripped_commas.str.replace('$','')\n",
    "dc_listings['price'] = stripped_dollars.astype('float')\n",
    "\n",
    "dc_listings.info()"
   ]
  },
  {
   "cell_type": "markdown",
   "metadata": {},
   "source": [
    "***\n",
    "### 2) Removing Features\n",
    "The following columns contain non-numerical values:\n",
    "\n",
    "+ room_type: e.g. Private room\n",
    "+ city: e.g. Washington\n",
    "+ state: e.g. DC\n",
    "\n",
    "while these columns contain numerical but non-ordinal values:\n",
    "\n",
    "+ latitude: e.g. 38.913458\n",
    "+ longitude: e.g. -77.031\n",
    "+ zipcode: e.g. 20009\n",
    "\n",
    "Geographic values like these aren't ordinal, because a smaller numerical value doesn't directly correspond to a smaller value in a meaningful way. For example, the zip code 20009 isn't smaller or larger than the zip code 75023 and instead both are unique, identifier values. Latitude and longitude value pairs describe a point on a geographic coordinate system and different equations are used in those cases (e.g. haversine).\n",
    "\n",
    "While we could convert the host_response_rate and host_acceptance_rate columns to be numerical (right now they're object data types and contain the % sign), these columns describe the host and not the living space itself. Since a host could have many living spaces and we don't have enough information to uniquely group living spaces to the hosts themselves, let's avoid using any columns that don't directly describe the living space or the listing itself:\n",
    "\n",
    "+ host_response_rate\n",
    "+ host_acceptance_rate\n",
    "+ host_listings_count\n",
    "\n",
    "Let's remove these 9 columns from the Dataframe."
   ]
  },
  {
   "cell_type": "code",
   "execution_count": 21,
   "metadata": {},
   "outputs": [],
   "source": [
    "# Remove the 9 columns we discussed above from dc_listings:\n",
    " # 3 containing non-numerical values\n",
    " # 3 containing numerical but non-ordinal values\n",
    " # 3 describing the host instead of the living space itself\n",
    "\n",
    "# 3 containing numerical but non-ordinal values\n",
    "# 3 describing the host instead of the living space itself\n",
    "\n",
    "cols = ['room_type','city','state',\n",
    "        'latitude','longitude','zipcode',\n",
    "        'host_response_rate','host_acceptance_rate']\n",
    "\n",
    "dc_listings.drop(cols, axis = 1, inplace = True)"
   ]
  },
  {
   "cell_type": "markdown",
   "metadata": {},
   "source": [
    "***\n",
    "### 3) Handling Missing Values\n",
    "Of the remaining columns, 3 columns have a few missing values (less than 1% of the total number of rows):\n",
    "\n",
    "+ bedrooms\n",
    "+ bathrooms\n",
    "+ beds\n",
    "\n",
    "Since the number of rows containing missing values for one of these 3 columns is low, we can select and remove those rows without losing much information. There are also 2 columns that have a large number of missing values:\n",
    "\n",
    "+ cleaning_fee - 37.3% of the rows\n",
    "+ security_deposit - 61.7% of the rows\n",
    "\n",
    "and we can't handle these easily. We can't just remove the rows containing missing values for these 2 columns because we'd miss out on the majority of the observations in the dataset. Instead, let's remove these 2 columns entirely from consideration."
   ]
  },
  {
   "cell_type": "code",
   "execution_count": 22,
   "metadata": {},
   "outputs": [
    {
     "name": "stdout",
     "output_type": "stream",
     "text": [
      "<class 'pandas.core.frame.DataFrame'>\n",
      "Int64Index: 3671 entries, 574 to 1061\n",
      "Data columns (total 9 columns):\n",
      "host_listings_count    3671 non-null int64\n",
      "accommodates           3671 non-null int64\n",
      "bedrooms               3671 non-null float64\n",
      "bathrooms              3671 non-null float64\n",
      "beds                   3671 non-null float64\n",
      "price                  3671 non-null float64\n",
      "minimum_nights         3671 non-null int64\n",
      "maximum_nights         3671 non-null int64\n",
      "number_of_reviews      3671 non-null int64\n",
      "dtypes: float64(4), int64(5)\n",
      "memory usage: 286.8 KB\n"
     ]
    }
   ],
   "source": [
    "## Drop the cleaning_fee and security_deposit columns from dc_listings.\n",
    "dc_listings.drop(['cleaning_fee', 'security_deposit'], axis = 1, inplace = True)\n",
    "\n",
    "## Then, remove all rows that contain a missing value for the bedrooms, bathrooms, or beds column from dc_listings.\n",
    "# You can accomplish this by using the Dataframe method dropna() and setting the axis parameter to 0.\n",
    "# Since only the bedrooms, bathrooms, and beds columns contain any missing values, \n",
    "    # rows containing missing values in these columns will be removed.\n",
    "\n",
    "cols = ['bedrooms', 'bathrooms', 'beds']\n",
    "dc_listings.dropna(subset = cols, axis = 0, inplace = True)\n",
    "    \n",
    "## Display the null value counts for the updated dc_listings Dataframe to confirm that there are no missing values left.\n",
    "dc_listings.info()"
   ]
  },
  {
   "cell_type": "markdown",
   "metadata": {},
   "source": [
    "***\n",
    "### 4) Normalize Columns\n",
    "\n",
    "Here's how the dc_listings Dataframe looks like after all the changes we made:\n",
    "\n",
    "![dc_listings](dc_listings.png)\n",
    "\n",
    "You may have noticed that while the accommodates, bedrooms, bathrooms, beds, and minimum_nights columns hover between 0 and 12 (at least in the first few rows), the values in the maximum_nights and number_of_reviews columns span much larger ranges. For example, the maximum_nights column has values as low as 4 and high as 1825, in the first few rows itself. If we use these 2 columns as part of a k-nearest neighbors model, these attributes could end up having an outsized effect on the distance calculations because of the largeness of the values.\n",
    "\n",
    "For example, 2 living spaces could be identical across every attribute but be vastly different just on the maximum_nights column. If one listing had a maximum_nights value of 1825 and the other a maximum_nights value of 4, because of the way Euclidean distance is calculated, these listings would be considered very far apart because of the outsized effect the largeness of the values had on the overall Euclidean distance. **To prevent any single column from having too much of an impact on the distance, we can normalize all of the columns to have a mean of 0 and a standard deviation of 1**.\n",
    "\n",
    "Normalizing the values in each column to the standard normal distribution (mean of 0, standard deviation of 1) preserves the distribution of the values in each column while aligning the scales. To normalize the values in a column to the standard normal distribution, you need to:\n",
    "\n",
    "+ from each value, subtract the mean of the column\n",
    "+ divide each value by the standard deviation of the column\n",
    "\n",
    "Here's the mathematical formula describing the transformation that needs to be applied for all values in a column:\n",
    "\n",
    "![transform](transform.png)\n",
    "\n",
    "where x is a value in a specific column, muy is the mean of all the values in the column, and SD is the standard deviation of all the values in the column. Here's what the corresponding code, using pandas, looks like:\n",
    "\n",
    "+ first_transform = dc_listings['maximum_nights'] - dc_listings['maximum_nights'].mean()\n",
    "+ normalize_col = first_transform / first_transform.std()\n",
    "\n",
    "It should be noted that you can also do the following:\n",
    "\n",
    "+ normalized_col = first_transform / dc_listings['maximum_nights'].std()\n",
    "\n",
    "and get the same answer as above.\n",
    "\n",
    "This is because first_transform is merely shifting the mean of the distribution and has no effect on the shape or scaling of the distribution In other words, the variance of dc_listings is the same as the variance of first_transform.\n",
    "\n",
    "To apply this transformation across all of the columns in a Dataframe, you can use the corresponding Dataframe methods mean() and std():\n",
    "\n",
    "+ normalized_listings = (dc_listings - dc_listings.mean()) / (dc_listings.std())\n",
    "\n",
    "These methods were written with mass column transformation in mind and when you call mean() or std(), the appropriate column means and column standard deviations are used for each value in the Dataframe. Let's now normalize all of the feature columns in dc_listings."
   ]
  },
  {
   "cell_type": "code",
   "execution_count": 25,
   "metadata": {},
   "outputs": [
    {
     "name": "stdout",
     "output_type": "stream",
     "text": [
      "      host_listings_count  accommodates  bedrooms  bathrooms      beds  price  \\\n",
      "574             -0.190090     -0.596544 -0.249467  -0.439151 -0.546858  125.0   \n",
      "1593            -0.174005     -0.596544 -0.249467   0.412923 -0.546858   85.0   \n",
      "3091            -0.190090     -1.095499 -0.249467  -1.291226 -0.546858   50.0   \n",
      "\n",
      "      minimum_nights  maximum_nights  number_of_reviews  \n",
      "574        -0.341375       -0.016604           4.579650  \n",
      "1593       -0.341375       -0.016603           1.159275  \n",
      "3091       -0.341375       -0.016573          -0.482505  \n"
     ]
    }
   ],
   "source": [
    "# Normalize all of the feature columns in dc_listings and assign the new Dataframe \n",
    "    # containing just the normalized feature columns to normalized_listings.\n",
    "    \n",
    "# Add the price column from dc_listings to normalized_listings.\n",
    "\n",
    "# Display the first 3 rows in normalized_listings.\n",
    "\n",
    "normalized_listings = (dc_listings - dc_listings.mean()) / (dc_listings.std())\n",
    "normalized_listings['price'] = dc_listings['price']\n",
    "print(normalized_listings.head(3))"
   ]
  },
  {
   "cell_type": "markdown",
   "metadata": {},
   "source": [
    "***\n",
    "### 5) Euclidean Distance for Multivariate Case\n",
    "In the last mission, we trained 2 univariate k-nearest neighbors models. The first one used the accommodates attribute while the second one used the bathrooms attribute. Let's now train a model that uses both attributes when determining how similar 2 living spaces are. Let's refer to the Euclidean distance equation again to see what the distance calculation using 2 attributes would look like:\n",
    "\n",
    "![d1](d1.png)\n",
    "\n",
    "Since we're using 2 attributes, the distance calculation would look like:\n",
    "![d2](d2.png)\n",
    "\n",
    "To find the distance between 2 living spaces, we need to calculate the squared difference between both accommodates values, the squared difference between both bathrooms values, add them together, and then take the square root of the resulting sum. Here's what the Euclidean distance between the first 2 rows in normalized_listings looks like:\n",
    "\n",
    "![d3](d3.png)\n",
    "\n",
    "So far, we've been calculating Euclidean distance ourselves by writing the logic for the equation ourselves. We can instead use the distance.euclidean() function from scipy.spatial, which takes in 2 vectors as the parameters and calculates the Euclidean distance between them. The euclidean() function expects:\n",
    "\n",
    "+ both of the vectors to be represented using a list-like object (Python list, NumPy array, or pandas Series)\n",
    "+ both of the vectors must be 1-dimensional and have the same number of elements\n",
    "\n",
    "Here's a simple example:\n",
    "\n",
    "+ from scipy.spatial import distance\n",
    "+ first_listing = [-0.596544, -0.439151]\n",
    "+ second_listing = [-0.596544, 0.412923]\n",
    "+ dist = distance.euclidean(first_listing, second_listing)\n",
    "\n",
    "Let's use the euclidean() function to calculate the Euclidean distance between 2 rows in our dataset to practice."
   ]
  },
  {
   "cell_type": "code",
   "execution_count": 37,
   "metadata": {},
   "outputs": [
    {
     "name": "stdout",
     "output_type": "stream",
     "text": [
      "5.272543124668404\n"
     ]
    }
   ],
   "source": [
    "# Calculate the Euclidean distance using only the accommodates and bathrooms features between the first row and fifth row \n",
    "    # in normalized_listings using the distance.euclidean() function.\n",
    "    \n",
    "# Assign the distance value to first_fifth_distance and display using the print function.\n",
    "\n",
    "from scipy.spatial import distance\n",
    "first_listing = normalized_listings.iloc[0][['accommodates', 'bathrooms']]\n",
    "fifth_listing = normalized_listings.iloc[4][['accommodates', 'bathrooms']]\n",
    "\n",
    "first_fifth_distance = distance.euclidean(first_listing, fifth_listing)\n",
    "\n",
    "print(first_fifth_distance)"
   ]
  },
  {
   "cell_type": "markdown",
   "metadata": {},
   "source": [
    "***\n",
    "### 6) Introduction to Scikit-learn\n",
    "So far, we've been writing functions from scratch to train the k-nearest neighbor models. While this is helpful deliberate practice to understand how the mechanics work, you can be more productive and iterate quicker by using a library that handles most of the implementation. In this screen, we'll learn about the scikit-learn library, which is the most popular machine learning in Python. Scikit-learn contains functions for all of the major machine learning algorithms and a simple, unified workflow. Both of these properties allow data scientists to be incredibly productive when training and testing different models on a new dataset.\n",
    "\n",
    "The scikit-learn workflow consists of 4 main steps:\n",
    "\n",
    "+ **instantiate** the specific machine learning model you want to use\n",
    "+ **fit** the model to the training data\n",
    "+ **use** the model to make predictions\n",
    "+ **evaluate** the accuracy of the predictions\n",
    "\n",
    "We'll focus on the first 3 steps in this screen and the next screen. Each model in scikit-learn is implemented as a separate class and the first step is to identify the class we want to create an instance of. In our case, we want to use the KNeighborsRegressor class.\n",
    "Any model that helps us predict numerical values, like listing price in our case, is known as a regression model. The other main class of machine learning models is called classification, where we're trying to predict a label from a fixed set of labels (e.g. blood type or gender). The word regressor from the class name KNeighborsRegressor refers to the regression model class that we just discussed.\n",
    "\n",
    "Scikit-learn uses a similar object-oriented style to Matplotlib and you need to instantiate an empty model first by calling the constructor:\n",
    "\n",
    "+ from sklearn.neighbors import KNeighborsRegressor\n",
    "+ knn = KNeighborsRegressor()\n",
    "\n",
    "If you refer to the documentation, you'll notice that by default:\n",
    "\n",
    "+ n_neighbors: the number of neighbors, is set to 5\n",
    "+ algorithm: for computing nearest neighbors, is set to auto\n",
    "+ p: set to 2, corresponding to Euclidean distance\n",
    "\n",
    "Let's set the algorithm parameter to brute and leave the n_neighbors value as 5, which matches the implementation we wrote in the last mission. If we leave the algorithm parameter set to the default value of auto, scikit-learn will try to use tree-based optimizations to improve performance (which are outside of the scope of this mission):\n",
    "\n",
    "+ knn = KNeighborsRegressor(algorithm='brute')"
   ]
  },
  {
   "cell_type": "markdown",
   "metadata": {},
   "source": [
    "***\n",
    "### 7) Fitting a Model and Making Predictions\n",
    "\n",
    "Now, we can fit the model to the data using the fit method. For all models, the fit method takes in 2 required parameters:\n",
    "\n",
    "+ matrix-like object, containing the feature columns we want to use from the training set.\n",
    "+ list-like object, containing correct target values.\n",
    "\n",
    "Matrix-like object means that the method is flexible in the input and either a Dataframe or a NumPy 2D array of values is accepted. This means you can select the columns you want to use from the Dataframe and use that as the first parameter to the fit method.\n",
    "\n",
    "If you recall from earlier in the mission, all of the following are acceptable list-like objects:\n",
    "\n",
    "+ NumPy array\n",
    "+ Python list\n",
    "+ pandas Series object (e.g. when selecting a column)\n",
    "\n",
    "You can select the target column from the Dataframe and use that as the second parameter to the fit method:\n",
    "\n",
    "![Split](split.png)\n",
    "\n",
    "When the fit() method is called, scikit-learn stores the training data we specified within the KNearestNeighbors instance (knn). If you try passing in data containing missing values or non-numerical values into the fit method, scikit-learn will return an error. Scikit-learn contains many such features that help prevent us from making common mistakes.\n",
    "\n",
    "Now that we specified the training data we want used to make predictions, we can use the predict method to make predictions on the test set. The predict method has only one required parameter:\n",
    "\n",
    "+ matrix-like object, containing the feature columns from the dataset we want to make predictions on\n",
    "\n",
    "The number of feature columns you use during both training and testing need to match or scikit-learn will return an error:\n",
    "\n",
    "![Predictions](pred.png)\n",
    "\n",
    "The predict() method returns a NumPy array containing the predicted price values for the test set. You now have everything you need to practice the entire scikit-learn workflow."
   ]
  },
  {
   "cell_type": "code",
   "execution_count": 42,
   "metadata": {},
   "outputs": [
    {
     "name": "stdout",
     "output_type": "stream",
     "text": [
      "[ 80.8 251.2  89.4]\n"
     ]
    }
   ],
   "source": [
    "train_df = normalized_listings.iloc[0:2792]\n",
    "test_df  = normalized_listings.iloc[2792:]\n",
    "# Create an instance of the KNeighborsRegressor class with the following parameters:\n",
    "    # n_neighbors: 5\n",
    "    # algorithm: brute\n",
    "\n",
    "from sklearn.neighbors import KNeighborsRegressor\n",
    "\n",
    "knn = KNeighborsRegressor(n_neighbors = 5, algorithm='brute')\n",
    "\n",
    "## Use the fit method to specify the data we want the k-nearest neighbor model to use. Use the following parameters:\n",
    "\n",
    "# training data, feature columns: just the accommodates and bathrooms columns, in that order, from train_df.\n",
    "# training data, target column: the price column from train_df.\n",
    "\n",
    "train_features = train_df[['accommodates','bathrooms']] \n",
    "\n",
    "train_target = train_df['price']\n",
    "\n",
    "knn.fit(train_features, train_target)\n",
    "\n",
    "## Call the predict method to make predictions on:\n",
    "\n",
    "# the accommodates and bathrooms columns from test_df\n",
    "# assign the resulting NumPy array of predicted price values to predictions.\n",
    "\n",
    "predictions = knn.predict(test_df[['accommodates','bathrooms']])\n",
    "\n",
    "print(predictions[0:3])"
   ]
  },
  {
   "cell_type": "markdown",
   "metadata": {},
   "source": [
    "***\n",
    "### 8) Calculating MSE using Scikit-Learn\n",
    "Earlier in this mission, we calculated the MSE and RMSE values using the pandas arithmetic operators to compare each predicted value with the actual value from the price column of our test set. Alternatively, we can instead use the **sklearn.metrics.mean_squared_error** function(). Once you become familiar with the different machine learning concepts, unifying your workflow using scikit-learn helps save you a lot of time and avoid mistakes.\n",
    "\n",
    "The **mean_squared_error()** function takes in 2 inputs:\n",
    "+ list-like object, representing the true values\n",
    "+ list-like object, representing the predicted values using the model\n",
    "\n",
    "For this function, we won't show any sample code and will leave it to you to understand the function from the documentation itself to calculate the MSE and RMSE values for the predictions we just made."
   ]
  },
  {
   "cell_type": "code",
   "execution_count": 44,
   "metadata": {},
   "outputs": [
    {
     "name": "stdout",
     "output_type": "stream",
     "text": [
      "15660.39795221843 125.14151170662127\n"
     ]
    }
   ],
   "source": [
    "# Use the mean_squared_error function to calculate the MSE value for the predictions we made in the previous screen.\n",
    "\n",
    "# Assign the MSE value to two_features_mse.\n",
    "\n",
    "# Calculate the RMSE value by taking the square root of the MSE value and assign to two_features_rmse.\n",
    "\n",
    "# Display both of these error scores using the print function.\n",
    "\n",
    "import numpy as np\n",
    "from sklearn.metrics import mean_squared_error\n",
    "\n",
    "train_features = train_df[['accommodates', 'bathrooms']]\n",
    "train_target   = train_df['price']\n",
    "\n",
    "knn = KNeighborsRegressor(n_neighbors = 5, algorithm = 'brute', metric = 'euclidean')\n",
    "knn.fit(train_features, train_target)\n",
    "predictions = knn.predict(test_df[['accommodates', 'bathrooms']])\n",
    "\n",
    "two_features_mse  = mean_squared_error(y_true = test_df['price'], y_pred = predictions)\n",
    "two_features_rmse = np.sqrt(two_features_mse)\n",
    "\n",
    "print(two_features_mse, two_features_rmse)"
   ]
  },
  {
   "cell_type": "markdown",
   "metadata": {},
   "source": [
    "***\n",
    "### 9) Using More Features\n",
    "Here's a table comparing the MSE and RMSE values for the 2 univariate models from the last mission and the multivariate model we just trained:\n",
    "\n",
    "![Features](features.png)\n",
    "\n",
    "As you can tell, the model we trained using both features ended up performing better (lower error score) than either of the univariate models from the last mission. Let's now train a model using the following 4 features:\n",
    "\n",
    "+ accommodates\n",
    "+ bedrooms\n",
    "+ bathrooms\n",
    "+ number_of_reviews\n",
    "\n",
    "Scikit-learn makes it incredibly easy to swap the columns used during training and testing. We're going to leave this for you as a challenge to train and test a k-nearest neighbors model using these columns instead. Use the code you wrote in the last screen as a guide."
   ]
  },
  {
   "cell_type": "code",
   "execution_count": 51,
   "metadata": {},
   "outputs": [
    {
     "name": "stdout",
     "output_type": "stream",
     "text": [
      " MSE value:  13425.567918088738 \n",
      " RMSE value:  115.86875298409291\n"
     ]
    }
   ],
   "source": [
    "# Create a new instance of the KNeighborsRegressor class with the following parameters:\n",
    "    # n_neighbors: 5\n",
    "    # algorithm: brute\n",
    "    \n",
    "# Fit a model that uses the following columns from our training set (train_df):\n",
    "    # accommodates\n",
    "    # bedrooms\n",
    "    # bathrooms\n",
    "    # number_of_reviews\n",
    "\n",
    "# Use the model to make predictions on the test set (test_df) using the same columns. \n",
    "    # Assign the NumPy array of predictions to four_predictions.\n",
    "\n",
    "# Use the mean_squared_error() function to calculate the MSE value for these predictions by comparing four_predictions \n",
    "    # with the price column from test_df. Assign the computed MSE value to four_mse.\n",
    "\n",
    "# Calculate the RMSE value and assign to four_rmse.\n",
    "    # Display four_mse and four_rmse using the print function.\n",
    "\n",
    "import numpy as np\n",
    "from sklearn.neighbors import KNeighborsRegressor\n",
    "from sklearn.metrics import mean_squared_error\n",
    "\n",
    "train_df = normalized_listings.iloc[0:2792]\n",
    "test_df  = normalized_listings.iloc[2792:]\n",
    "\n",
    "features_cols = ['accommodates','bedrooms','bathrooms','number_of_reviews']\n",
    "target_col    = ['price']\n",
    "\n",
    "knn = KNeighborsRegressor(n_neighbors = 5, algorithm = 'brute')\n",
    "knn.fit(train_df[features_cols], train_df[target_col])\n",
    "four_predictions = knn.predict(test_df[features_cols])\n",
    "\n",
    "four_mse  = mean_squared_error(y_true = test_df[target_col], y_pred = four_predictions)\n",
    "four_rmse = np.sqrt(four_mse)\n",
    "\n",
    "print(' MSE value: ', four_mse, '\\n', 'RMSE value: ', four_rmse)"
   ]
  },
  {
   "cell_type": "markdown",
   "metadata": {},
   "source": [
    "***\n",
    "### 10) Using All Features\n",
    "So far so good! As we increased the features the model used, we observed lower MSE and RMSE values:\n",
    "\n",
    "![4 Features](4_features.png)\n",
    "\n",
    "Let's take this to the extreme and use all of the potential features. We should expect the error scores to decrease since so far adding more features has helped do so."
   ]
  },
  {
   "cell_type": "code",
   "execution_count": 48,
   "metadata": {},
   "outputs": [
    {
     "data": {
      "text/plain": [
       "Index(['host_listings_count', 'accommodates', 'bedrooms', 'bathrooms', 'beds',\n",
       "       'price', 'minimum_nights', 'maximum_nights', 'number_of_reviews'],\n",
       "      dtype='object')"
      ]
     },
     "execution_count": 48,
     "metadata": {},
     "output_type": "execute_result"
    }
   ],
   "source": [
    "train_df.columns"
   ]
  },
  {
   "cell_type": "code",
   "execution_count": 50,
   "metadata": {},
   "outputs": [
    {
     "name": "stdout",
     "output_type": "stream",
     "text": [
      " MSE value is:  15455.168464163822 \n",
      " RMSE value is:  124.31881782000592\n"
     ]
    }
   ],
   "source": [
    "# Use all of the columns, except for the price column, to train a k-nearest neighbors model using the same parameters \n",
    "# for the KNeighborsRegressor class as the ones from the last few screens.\n",
    "# Use the model to make predictions on the test set and assign the resulting NumPy array of predictions to all_features_predictions.\n",
    "# Calculate the MSE and RMSE values and assign to all_features_mse and all_features_rmse accordingly.\n",
    "# Use the print function to display both error scores.\n",
    "\n",
    "import numpy as np\n",
    "from sklearn.neighbors import KNeighborsRegressor\n",
    "from sklearn.metrics import mean_squared_error\n",
    "\n",
    "train_df = normalized_listings.iloc[0:2792]\n",
    "test_df  = normalized_listings.iloc[2792:]\n",
    "\n",
    "all_features_cols = ['accommodates', 'bedrooms', 'bathrooms', 'beds','minimum_nights', 'maximum_nights', 'number_of_reviews']\n",
    "target_col = ['price']\n",
    "\n",
    "knn = KNeighborsRegressor(n_neighbors = 5, algorithm = 'brute')\n",
    "knn.fit(train_df[all_features_cols], train_df[target_col])\n",
    "all_features_predictions = knn.predict(test_df[all_features_cols])\n",
    "\n",
    "all_features_mse  = mean_squared_error(y_true = test_df[target_col], y_pred = all_features_predictions)\n",
    "all_features_rmse = np.sqrt(all_features_mse)\n",
    "\n",
    "print(' MSE value is: ', all_features_mse, '\\n', 'RMSE value is: ', all_features_rmse)\n",
    "\n",
    "\n"
   ]
  },
  {
   "cell_type": "markdown",
   "metadata": {},
   "source": [
    "***\n",
    "### 11) Next Steps\n",
    "\n",
    "Interestingly enough, the RMSE value actually increased to 124.31 from 115.87 when we used all of the features available to us. This means that selecting the right features is important and that using more features doesn't automatically improve prediction accuracy. We should re-phrase the lever we mentioned earlier from:\n",
    "\n",
    "+ increase the number of attributes the model uses to calculate similarity when ranking the closest neighbors\n",
    "\n",
    "to:\n",
    "\n",
    "+ select the relevant attributes the model uses to calculate similarity when ranking the closest neighbors\n",
    "\n",
    "The process of selecting features to use in a model is known as **feature selection**.\n",
    "\n",
    "In this mission, we prepared the data to be able to use more features, trained a few models using multiple features, and evaluated the different performance tradeoffs. We explored how using more features doesn't always improve the accuracy of a k-nearest neighbors model. In the next mission, we'll explore another knob for tuning k-nearest neighbor models - the k value."
   ]
  },
  {
   "cell_type": "code",
   "execution_count": null,
   "metadata": {},
   "outputs": [],
   "source": []
  }
 ],
 "metadata": {
  "kernelspec": {
   "display_name": "Python 3",
   "language": "python",
   "name": "python3"
  },
  "language_info": {
   "codemirror_mode": {
    "name": "ipython",
    "version": 3
   },
   "file_extension": ".py",
   "mimetype": "text/x-python",
   "name": "python",
   "nbconvert_exporter": "python",
   "pygments_lexer": "ipython3",
   "version": "3.7.2"
  }
 },
 "nbformat": 4,
 "nbformat_minor": 2
}
