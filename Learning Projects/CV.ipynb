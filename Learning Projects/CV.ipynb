{
 "cells": [
  {
   "cell_type": "code",
   "execution_count": 2,
   "metadata": {},
   "outputs": [],
   "source": [
    "import numpy as np\n",
    "import pandas as pd\n",
    "import matplotlib.pyplot as plt\n",
    "\n",
    "%matplotlib inline"
   ]
  },
  {
   "cell_type": "markdown",
   "metadata": {},
   "source": [
    "### 1) Introduction to the Data set"
   ]
  },
  {
   "cell_type": "code",
   "execution_count": 3,
   "metadata": {},
   "outputs": [
    {
     "data": {
      "text/html": [
       "<div>\n",
       "<style scoped>\n",
       "    .dataframe tbody tr th:only-of-type {\n",
       "        vertical-align: middle;\n",
       "    }\n",
       "\n",
       "    .dataframe tbody tr th {\n",
       "        vertical-align: top;\n",
       "    }\n",
       "\n",
       "    .dataframe thead th {\n",
       "        text-align: right;\n",
       "    }\n",
       "</style>\n",
       "<table border=\"1\" class=\"dataframe\">\n",
       "  <thead>\n",
       "    <tr style=\"text-align: right;\">\n",
       "      <th></th>\n",
       "      <th>symboling</th>\n",
       "      <th>normalized_lossed</th>\n",
       "      <th>make</th>\n",
       "      <th>fuel_type</th>\n",
       "      <th>aspiration</th>\n",
       "      <th>num_doors</th>\n",
       "      <th>body_style</th>\n",
       "      <th>drive_wheels</th>\n",
       "      <th>engine_location</th>\n",
       "      <th>wheel_base</th>\n",
       "      <th>...</th>\n",
       "      <th>engine_size</th>\n",
       "      <th>fuel_system</th>\n",
       "      <th>bore</th>\n",
       "      <th>stroke</th>\n",
       "      <th>compression_ratio</th>\n",
       "      <th>horsepower</th>\n",
       "      <th>peak_rpm</th>\n",
       "      <th>city_mpg</th>\n",
       "      <th>highway_mpg</th>\n",
       "      <th>price</th>\n",
       "    </tr>\n",
       "  </thead>\n",
       "  <tbody>\n",
       "    <tr>\n",
       "      <th>0</th>\n",
       "      <td>3</td>\n",
       "      <td>?</td>\n",
       "      <td>alfa-romero</td>\n",
       "      <td>gas</td>\n",
       "      <td>std</td>\n",
       "      <td>two</td>\n",
       "      <td>convertible</td>\n",
       "      <td>rwd</td>\n",
       "      <td>front</td>\n",
       "      <td>88.6</td>\n",
       "      <td>...</td>\n",
       "      <td>130</td>\n",
       "      <td>mpfi</td>\n",
       "      <td>3.47</td>\n",
       "      <td>2.68</td>\n",
       "      <td>9.0</td>\n",
       "      <td>111</td>\n",
       "      <td>5000</td>\n",
       "      <td>21</td>\n",
       "      <td>27</td>\n",
       "      <td>13495</td>\n",
       "    </tr>\n",
       "    <tr>\n",
       "      <th>1</th>\n",
       "      <td>3</td>\n",
       "      <td>?</td>\n",
       "      <td>alfa-romero</td>\n",
       "      <td>gas</td>\n",
       "      <td>std</td>\n",
       "      <td>two</td>\n",
       "      <td>convertible</td>\n",
       "      <td>rwd</td>\n",
       "      <td>front</td>\n",
       "      <td>88.6</td>\n",
       "      <td>...</td>\n",
       "      <td>130</td>\n",
       "      <td>mpfi</td>\n",
       "      <td>3.47</td>\n",
       "      <td>2.68</td>\n",
       "      <td>9.0</td>\n",
       "      <td>111</td>\n",
       "      <td>5000</td>\n",
       "      <td>21</td>\n",
       "      <td>27</td>\n",
       "      <td>16500</td>\n",
       "    </tr>\n",
       "    <tr>\n",
       "      <th>2</th>\n",
       "      <td>1</td>\n",
       "      <td>?</td>\n",
       "      <td>alfa-romero</td>\n",
       "      <td>gas</td>\n",
       "      <td>std</td>\n",
       "      <td>two</td>\n",
       "      <td>hatchback</td>\n",
       "      <td>rwd</td>\n",
       "      <td>front</td>\n",
       "      <td>94.5</td>\n",
       "      <td>...</td>\n",
       "      <td>152</td>\n",
       "      <td>mpfi</td>\n",
       "      <td>2.68</td>\n",
       "      <td>3.47</td>\n",
       "      <td>9.0</td>\n",
       "      <td>154</td>\n",
       "      <td>5000</td>\n",
       "      <td>19</td>\n",
       "      <td>26</td>\n",
       "      <td>16500</td>\n",
       "    </tr>\n",
       "    <tr>\n",
       "      <th>3</th>\n",
       "      <td>2</td>\n",
       "      <td>164</td>\n",
       "      <td>audi</td>\n",
       "      <td>gas</td>\n",
       "      <td>std</td>\n",
       "      <td>four</td>\n",
       "      <td>sedan</td>\n",
       "      <td>fwd</td>\n",
       "      <td>front</td>\n",
       "      <td>99.8</td>\n",
       "      <td>...</td>\n",
       "      <td>109</td>\n",
       "      <td>mpfi</td>\n",
       "      <td>3.19</td>\n",
       "      <td>3.40</td>\n",
       "      <td>10.0</td>\n",
       "      <td>102</td>\n",
       "      <td>5500</td>\n",
       "      <td>24</td>\n",
       "      <td>30</td>\n",
       "      <td>13950</td>\n",
       "    </tr>\n",
       "    <tr>\n",
       "      <th>4</th>\n",
       "      <td>2</td>\n",
       "      <td>164</td>\n",
       "      <td>audi</td>\n",
       "      <td>gas</td>\n",
       "      <td>std</td>\n",
       "      <td>four</td>\n",
       "      <td>sedan</td>\n",
       "      <td>4wd</td>\n",
       "      <td>front</td>\n",
       "      <td>99.4</td>\n",
       "      <td>...</td>\n",
       "      <td>136</td>\n",
       "      <td>mpfi</td>\n",
       "      <td>3.19</td>\n",
       "      <td>3.40</td>\n",
       "      <td>8.0</td>\n",
       "      <td>115</td>\n",
       "      <td>5500</td>\n",
       "      <td>18</td>\n",
       "      <td>22</td>\n",
       "      <td>17450</td>\n",
       "    </tr>\n",
       "  </tbody>\n",
       "</table>\n",
       "<p>5 rows × 26 columns</p>\n",
       "</div>"
      ],
      "text/plain": [
       "   symboling normalized_lossed         make fuel_type aspiration num_doors  \\\n",
       "0          3                 ?  alfa-romero       gas        std       two   \n",
       "1          3                 ?  alfa-romero       gas        std       two   \n",
       "2          1                 ?  alfa-romero       gas        std       two   \n",
       "3          2               164         audi       gas        std      four   \n",
       "4          2               164         audi       gas        std      four   \n",
       "\n",
       "    body_style drive_wheels engine_location  wheel_base  ...    engine_size  \\\n",
       "0  convertible          rwd           front        88.6  ...            130   \n",
       "1  convertible          rwd           front        88.6  ...            130   \n",
       "2    hatchback          rwd           front        94.5  ...            152   \n",
       "3        sedan          fwd           front        99.8  ...            109   \n",
       "4        sedan          4wd           front        99.4  ...            136   \n",
       "\n",
       "   fuel_system  bore  stroke compression_ratio horsepower  peak_rpm city_mpg  \\\n",
       "0         mpfi  3.47    2.68               9.0        111      5000       21   \n",
       "1         mpfi  3.47    2.68               9.0        111      5000       21   \n",
       "2         mpfi  2.68    3.47               9.0        154      5000       19   \n",
       "3         mpfi  3.19    3.40              10.0        102      5500       24   \n",
       "4         mpfi  3.19    3.40               8.0        115      5500       18   \n",
       "\n",
       "  highway_mpg  price  \n",
       "0          27  13495  \n",
       "1          27  16500  \n",
       "2          26  16500  \n",
       "3          30  13950  \n",
       "4          22  17450  \n",
       "\n",
       "[5 rows x 26 columns]"
      ]
     },
     "execution_count": 3,
     "metadata": {},
     "output_type": "execute_result"
    }
   ],
   "source": [
    "# Read import-85.data.csv into a dataframe named \"cars.\" Specify the column names.\n",
    "cars = pd.read_csv('imports-85.data.csv', \n",
    "                   header = None,\n",
    "                  names = ['symboling', 'normalized_lossed', 'make', 'fuel_type',\n",
    "                          'aspiration', 'num_doors', 'body_style', 'drive_wheels',\n",
    "                          'engine_location', 'wheel_base', 'length', 'width',\n",
    "                          'height', 'curb_weight', 'engine_type', 'num_cylinders',\n",
    "                          'engine_size', 'fuel_system', 'bore', 'stroke', 'compression_ratio',\n",
    "                          'horsepower', 'peak_rpm', 'city_mpg', 'highway_mpg', 'price'])\n",
    "\n",
    "cars.head()"
   ]
  },
  {
   "cell_type": "code",
   "execution_count": 4,
   "metadata": {},
   "outputs": [
    {
     "name": "stdout",
     "output_type": "stream",
     "text": [
      "<class 'pandas.core.frame.DataFrame'>\n",
      "RangeIndex: 205 entries, 0 to 204\n",
      "Data columns (total 26 columns):\n",
      "symboling            205 non-null int64\n",
      "normalized_lossed    205 non-null object\n",
      "make                 205 non-null object\n",
      "fuel_type            205 non-null object\n",
      "aspiration           205 non-null object\n",
      "num_doors            205 non-null object\n",
      "body_style           205 non-null object\n",
      "drive_wheels         205 non-null object\n",
      "engine_location      205 non-null object\n",
      "wheel_base           205 non-null float64\n",
      "length               205 non-null float64\n",
      "width                205 non-null float64\n",
      "height               205 non-null float64\n",
      "curb_weight          205 non-null int64\n",
      "engine_type          205 non-null object\n",
      "num_cylinders        205 non-null object\n",
      "engine_size          205 non-null int64\n",
      "fuel_system          205 non-null object\n",
      "bore                 205 non-null object\n",
      "stroke               205 non-null object\n",
      "compression_ratio    205 non-null float64\n",
      "horsepower           205 non-null object\n",
      "peak_rpm             205 non-null object\n",
      "city_mpg             205 non-null int64\n",
      "highway_mpg          205 non-null int64\n",
      "price                205 non-null object\n",
      "dtypes: float64(5), int64(5), object(16)\n",
      "memory usage: 41.7+ KB\n",
      "None\n"
     ]
    }
   ],
   "source": [
    "# Investigate the column types and determine which ones can be used as features and which one is the target\n",
    "print(cars.info())\n",
    "# print(cars.isnull().sum())"
   ]
  },
  {
   "cell_type": "markdown",
   "metadata": {},
   "source": [
    "There are no missing values. The columns describing features and the column regarding target are specified below."
   ]
  },
  {
   "cell_type": "code",
   "execution_count": 5,
   "metadata": {},
   "outputs": [
    {
     "data": {
      "text/html": [
       "<div>\n",
       "<style scoped>\n",
       "    .dataframe tbody tr th:only-of-type {\n",
       "        vertical-align: middle;\n",
       "    }\n",
       "\n",
       "    .dataframe tbody tr th {\n",
       "        vertical-align: top;\n",
       "    }\n",
       "\n",
       "    .dataframe thead th {\n",
       "        text-align: right;\n",
       "    }\n",
       "</style>\n",
       "<table border=\"1\" class=\"dataframe\">\n",
       "  <thead>\n",
       "    <tr style=\"text-align: right;\">\n",
       "      <th></th>\n",
       "      <th>normalized_lossed</th>\n",
       "      <th>wheel_base</th>\n",
       "      <th>length</th>\n",
       "      <th>width</th>\n",
       "      <th>height</th>\n",
       "      <th>curb_weight</th>\n",
       "      <th>bore</th>\n",
       "      <th>stroke</th>\n",
       "      <th>compression_ratio</th>\n",
       "      <th>horsepower</th>\n",
       "      <th>peak_rpm</th>\n",
       "      <th>city_mpg</th>\n",
       "      <th>highway_mpg</th>\n",
       "      <th>price</th>\n",
       "    </tr>\n",
       "  </thead>\n",
       "  <tbody>\n",
       "    <tr>\n",
       "      <th>0</th>\n",
       "      <td>?</td>\n",
       "      <td>88.6</td>\n",
       "      <td>168.8</td>\n",
       "      <td>64.1</td>\n",
       "      <td>48.8</td>\n",
       "      <td>2548</td>\n",
       "      <td>3.47</td>\n",
       "      <td>2.68</td>\n",
       "      <td>9.0</td>\n",
       "      <td>111</td>\n",
       "      <td>5000</td>\n",
       "      <td>21</td>\n",
       "      <td>27</td>\n",
       "      <td>13495</td>\n",
       "    </tr>\n",
       "    <tr>\n",
       "      <th>1</th>\n",
       "      <td>?</td>\n",
       "      <td>88.6</td>\n",
       "      <td>168.8</td>\n",
       "      <td>64.1</td>\n",
       "      <td>48.8</td>\n",
       "      <td>2548</td>\n",
       "      <td>3.47</td>\n",
       "      <td>2.68</td>\n",
       "      <td>9.0</td>\n",
       "      <td>111</td>\n",
       "      <td>5000</td>\n",
       "      <td>21</td>\n",
       "      <td>27</td>\n",
       "      <td>16500</td>\n",
       "    </tr>\n",
       "    <tr>\n",
       "      <th>2</th>\n",
       "      <td>?</td>\n",
       "      <td>94.5</td>\n",
       "      <td>171.2</td>\n",
       "      <td>65.5</td>\n",
       "      <td>52.4</td>\n",
       "      <td>2823</td>\n",
       "      <td>2.68</td>\n",
       "      <td>3.47</td>\n",
       "      <td>9.0</td>\n",
       "      <td>154</td>\n",
       "      <td>5000</td>\n",
       "      <td>19</td>\n",
       "      <td>26</td>\n",
       "      <td>16500</td>\n",
       "    </tr>\n",
       "    <tr>\n",
       "      <th>3</th>\n",
       "      <td>164</td>\n",
       "      <td>99.8</td>\n",
       "      <td>176.6</td>\n",
       "      <td>66.2</td>\n",
       "      <td>54.3</td>\n",
       "      <td>2337</td>\n",
       "      <td>3.19</td>\n",
       "      <td>3.40</td>\n",
       "      <td>10.0</td>\n",
       "      <td>102</td>\n",
       "      <td>5500</td>\n",
       "      <td>24</td>\n",
       "      <td>30</td>\n",
       "      <td>13950</td>\n",
       "    </tr>\n",
       "    <tr>\n",
       "      <th>4</th>\n",
       "      <td>164</td>\n",
       "      <td>99.4</td>\n",
       "      <td>176.6</td>\n",
       "      <td>66.4</td>\n",
       "      <td>54.3</td>\n",
       "      <td>2824</td>\n",
       "      <td>3.19</td>\n",
       "      <td>3.40</td>\n",
       "      <td>8.0</td>\n",
       "      <td>115</td>\n",
       "      <td>5500</td>\n",
       "      <td>18</td>\n",
       "      <td>22</td>\n",
       "      <td>17450</td>\n",
       "    </tr>\n",
       "  </tbody>\n",
       "</table>\n",
       "</div>"
      ],
      "text/plain": [
       "  normalized_lossed  wheel_base  length  width  height  curb_weight  bore  \\\n",
       "0                 ?        88.6   168.8   64.1    48.8         2548  3.47   \n",
       "1                 ?        88.6   168.8   64.1    48.8         2548  3.47   \n",
       "2                 ?        94.5   171.2   65.5    52.4         2823  2.68   \n",
       "3               164        99.8   176.6   66.2    54.3         2337  3.19   \n",
       "4               164        99.4   176.6   66.4    54.3         2824  3.19   \n",
       "\n",
       "  stroke  compression_ratio horsepower peak_rpm  city_mpg  highway_mpg  price  \n",
       "0   2.68                9.0        111     5000        21           27  13495  \n",
       "1   2.68                9.0        111     5000        21           27  16500  \n",
       "2   3.47                9.0        154     5000        19           26  16500  \n",
       "3   3.40               10.0        102     5500        24           30  13950  \n",
       "4   3.40                8.0        115     5500        18           22  17450  "
      ]
     },
     "execution_count": 5,
     "metadata": {},
     "output_type": "execute_result"
    }
   ],
   "source": [
    "num_cols = ['normalized_lossed','wheel_base', 'length', 'width', 'height', 'curb_weight', \n",
    "             'bore', 'stroke', 'compression_ratio', 'horsepower', 'peak_rpm', 'city_mpg', 'highway_mpg','price']\n",
    "\n",
    "cars = cars[num_cols]\n",
    "\n",
    "cars.head()"
   ]
  },
  {
   "cell_type": "markdown",
   "metadata": {},
   "source": [
    "***"
   ]
  },
  {
   "cell_type": "markdown",
   "metadata": {},
   "source": [
    "### 2) Data Cleaning"
   ]
  },
  {
   "cell_type": "markdown",
   "metadata": {},
   "source": [
    "#### Step 1: \n",
    "\n",
    "Use the DataFrame.replace() method to replace all of the \"?\" values with the numpy.nan missing value"
   ]
  },
  {
   "cell_type": "code",
   "execution_count": 6,
   "metadata": {},
   "outputs": [
    {
     "data": {
      "text/html": [
       "<div>\n",
       "<style scoped>\n",
       "    .dataframe tbody tr th:only-of-type {\n",
       "        vertical-align: middle;\n",
       "    }\n",
       "\n",
       "    .dataframe tbody tr th {\n",
       "        vertical-align: top;\n",
       "    }\n",
       "\n",
       "    .dataframe thead th {\n",
       "        text-align: right;\n",
       "    }\n",
       "</style>\n",
       "<table border=\"1\" class=\"dataframe\">\n",
       "  <thead>\n",
       "    <tr style=\"text-align: right;\">\n",
       "      <th></th>\n",
       "      <th>normalized_lossed</th>\n",
       "      <th>wheel_base</th>\n",
       "      <th>length</th>\n",
       "      <th>width</th>\n",
       "      <th>height</th>\n",
       "      <th>curb_weight</th>\n",
       "      <th>bore</th>\n",
       "      <th>stroke</th>\n",
       "      <th>compression_ratio</th>\n",
       "      <th>horsepower</th>\n",
       "      <th>peak_rpm</th>\n",
       "      <th>city_mpg</th>\n",
       "      <th>highway_mpg</th>\n",
       "      <th>price</th>\n",
       "    </tr>\n",
       "  </thead>\n",
       "  <tbody>\n",
       "    <tr>\n",
       "      <th>0</th>\n",
       "      <td>NaN</td>\n",
       "      <td>88.6</td>\n",
       "      <td>168.8</td>\n",
       "      <td>64.1</td>\n",
       "      <td>48.8</td>\n",
       "      <td>2548</td>\n",
       "      <td>3.47</td>\n",
       "      <td>2.68</td>\n",
       "      <td>9.0</td>\n",
       "      <td>111</td>\n",
       "      <td>5000</td>\n",
       "      <td>21</td>\n",
       "      <td>27</td>\n",
       "      <td>13495</td>\n",
       "    </tr>\n",
       "    <tr>\n",
       "      <th>1</th>\n",
       "      <td>NaN</td>\n",
       "      <td>88.6</td>\n",
       "      <td>168.8</td>\n",
       "      <td>64.1</td>\n",
       "      <td>48.8</td>\n",
       "      <td>2548</td>\n",
       "      <td>3.47</td>\n",
       "      <td>2.68</td>\n",
       "      <td>9.0</td>\n",
       "      <td>111</td>\n",
       "      <td>5000</td>\n",
       "      <td>21</td>\n",
       "      <td>27</td>\n",
       "      <td>16500</td>\n",
       "    </tr>\n",
       "    <tr>\n",
       "      <th>2</th>\n",
       "      <td>NaN</td>\n",
       "      <td>94.5</td>\n",
       "      <td>171.2</td>\n",
       "      <td>65.5</td>\n",
       "      <td>52.4</td>\n",
       "      <td>2823</td>\n",
       "      <td>2.68</td>\n",
       "      <td>3.47</td>\n",
       "      <td>9.0</td>\n",
       "      <td>154</td>\n",
       "      <td>5000</td>\n",
       "      <td>19</td>\n",
       "      <td>26</td>\n",
       "      <td>16500</td>\n",
       "    </tr>\n",
       "    <tr>\n",
       "      <th>3</th>\n",
       "      <td>164</td>\n",
       "      <td>99.8</td>\n",
       "      <td>176.6</td>\n",
       "      <td>66.2</td>\n",
       "      <td>54.3</td>\n",
       "      <td>2337</td>\n",
       "      <td>3.19</td>\n",
       "      <td>3.40</td>\n",
       "      <td>10.0</td>\n",
       "      <td>102</td>\n",
       "      <td>5500</td>\n",
       "      <td>24</td>\n",
       "      <td>30</td>\n",
       "      <td>13950</td>\n",
       "    </tr>\n",
       "    <tr>\n",
       "      <th>4</th>\n",
       "      <td>164</td>\n",
       "      <td>99.4</td>\n",
       "      <td>176.6</td>\n",
       "      <td>66.4</td>\n",
       "      <td>54.3</td>\n",
       "      <td>2824</td>\n",
       "      <td>3.19</td>\n",
       "      <td>3.40</td>\n",
       "      <td>8.0</td>\n",
       "      <td>115</td>\n",
       "      <td>5500</td>\n",
       "      <td>18</td>\n",
       "      <td>22</td>\n",
       "      <td>17450</td>\n",
       "    </tr>\n",
       "  </tbody>\n",
       "</table>\n",
       "</div>"
      ],
      "text/plain": [
       "  normalized_lossed  wheel_base  length  width  height  curb_weight  bore  \\\n",
       "0               NaN        88.6   168.8   64.1    48.8         2548  3.47   \n",
       "1               NaN        88.6   168.8   64.1    48.8         2548  3.47   \n",
       "2               NaN        94.5   171.2   65.5    52.4         2823  2.68   \n",
       "3               164        99.8   176.6   66.2    54.3         2337  3.19   \n",
       "4               164        99.4   176.6   66.4    54.3         2824  3.19   \n",
       "\n",
       "  stroke  compression_ratio horsepower peak_rpm  city_mpg  highway_mpg  price  \n",
       "0   2.68                9.0        111     5000        21           27  13495  \n",
       "1   2.68                9.0        111     5000        21           27  16500  \n",
       "2   3.47                9.0        154     5000        19           26  16500  \n",
       "3   3.40               10.0        102     5500        24           30  13950  \n",
       "4   3.40                8.0        115     5500        18           22  17450  "
      ]
     },
     "execution_count": 6,
     "metadata": {},
     "output_type": "execute_result"
    }
   ],
   "source": [
    "cars = cars.replace(to_replace = '?', value = np.nan)\n",
    "\n",
    "cars.head()"
   ]
  },
  {
   "cell_type": "markdown",
   "metadata": {},
   "source": [
    "#### Step 2: \n",
    "\n",
    "Because '?' is a string value, columns containing this value were cast to the pandas object data type (instead of a numeric type like int or float). After replacing the ? values, determine which columns need to be converted to numeric types. We can use either the DataFrame.astype() or the Series.astype() methods to convert column types."
   ]
  },
  {
   "cell_type": "code",
   "execution_count": 7,
   "metadata": {},
   "outputs": [
    {
     "name": "stdout",
     "output_type": "stream",
     "text": [
      "<class 'pandas.core.frame.DataFrame'>\n",
      "RangeIndex: 205 entries, 0 to 204\n",
      "Data columns (total 14 columns):\n",
      "normalized_lossed    164 non-null object\n",
      "wheel_base           205 non-null float64\n",
      "length               205 non-null float64\n",
      "width                205 non-null float64\n",
      "height               205 non-null float64\n",
      "curb_weight          205 non-null int64\n",
      "bore                 201 non-null object\n",
      "stroke               201 non-null object\n",
      "compression_ratio    205 non-null float64\n",
      "horsepower           203 non-null object\n",
      "peak_rpm             203 non-null object\n",
      "city_mpg             205 non-null int64\n",
      "highway_mpg          205 non-null int64\n",
      "price                201 non-null object\n",
      "dtypes: float64(5), int64(3), object(6)\n",
      "memory usage: 22.5+ KB\n"
     ]
    }
   ],
   "source": [
    "cars.info()"
   ]
  },
  {
   "cell_type": "markdown",
   "metadata": {},
   "source": [
    "##### Convert all columns to \"float\" type"
   ]
  },
  {
   "cell_type": "code",
   "execution_count": 8,
   "metadata": {},
   "outputs": [
    {
     "name": "stdout",
     "output_type": "stream",
     "text": [
      "<class 'pandas.core.frame.DataFrame'>\n",
      "RangeIndex: 205 entries, 0 to 204\n",
      "Data columns (total 14 columns):\n",
      "normalized_lossed    164 non-null float64\n",
      "wheel_base           205 non-null float64\n",
      "length               205 non-null float64\n",
      "width                205 non-null float64\n",
      "height               205 non-null float64\n",
      "curb_weight          205 non-null float64\n",
      "bore                 201 non-null float64\n",
      "stroke               201 non-null float64\n",
      "compression_ratio    205 non-null float64\n",
      "horsepower           203 non-null float64\n",
      "peak_rpm             203 non-null float64\n",
      "city_mpg             205 non-null float64\n",
      "highway_mpg          205 non-null float64\n",
      "price                201 non-null float64\n",
      "dtypes: float64(14)\n",
      "memory usage: 22.5 KB\n"
     ]
    }
   ],
   "source": [
    "cars = cars.astype('float')\n",
    "\n",
    "# Double check \n",
    "cars.info()"
   ]
  },
  {
   "cell_type": "code",
   "execution_count": 9,
   "metadata": {},
   "outputs": [
    {
     "data": {
      "text/plain": [
       "normalized_lossed    0\n",
       "wheel_base           0\n",
       "length               0\n",
       "width                0\n",
       "height               0\n",
       "curb_weight          0\n",
       "bore                 0\n",
       "stroke               0\n",
       "compression_ratio    0\n",
       "horsepower           0\n",
       "peak_rpm             0\n",
       "city_mpg             0\n",
       "highway_mpg          0\n",
       "price                0\n",
       "dtype: int64"
      ]
     },
     "execution_count": 9,
     "metadata": {},
     "output_type": "execute_result"
    }
   ],
   "source": [
    "# Use column means to replace missing value\n",
    "cars = cars.fillna(cars.mean())\n",
    "\n",
    "# Double check\n",
    "cars.isnull().sum()"
   ]
  },
  {
   "cell_type": "code",
   "execution_count": 10,
   "metadata": {},
   "outputs": [
    {
     "data": {
      "text/html": [
       "<div>\n",
       "<style scoped>\n",
       "    .dataframe tbody tr th:only-of-type {\n",
       "        vertical-align: middle;\n",
       "    }\n",
       "\n",
       "    .dataframe tbody tr th {\n",
       "        vertical-align: top;\n",
       "    }\n",
       "\n",
       "    .dataframe thead th {\n",
       "        text-align: right;\n",
       "    }\n",
       "</style>\n",
       "<table border=\"1\" class=\"dataframe\">\n",
       "  <thead>\n",
       "    <tr style=\"text-align: right;\">\n",
       "      <th></th>\n",
       "      <th>normalized_lossed</th>\n",
       "      <th>wheel_base</th>\n",
       "      <th>length</th>\n",
       "      <th>width</th>\n",
       "      <th>height</th>\n",
       "      <th>curb_weight</th>\n",
       "      <th>bore</th>\n",
       "      <th>stroke</th>\n",
       "      <th>compression_ratio</th>\n",
       "      <th>horsepower</th>\n",
       "      <th>peak_rpm</th>\n",
       "      <th>city_mpg</th>\n",
       "      <th>highway_mpg</th>\n",
       "      <th>price</th>\n",
       "    </tr>\n",
       "  </thead>\n",
       "  <tbody>\n",
       "    <tr>\n",
       "      <th>0</th>\n",
       "      <td>0.298429</td>\n",
       "      <td>0.058309</td>\n",
       "      <td>0.413433</td>\n",
       "      <td>0.316667</td>\n",
       "      <td>0.083333</td>\n",
       "      <td>0.411171</td>\n",
       "      <td>0.664286</td>\n",
       "      <td>0.290476</td>\n",
       "      <td>0.1250</td>\n",
       "      <td>0.262500</td>\n",
       "      <td>0.346939</td>\n",
       "      <td>0.222222</td>\n",
       "      <td>0.289474</td>\n",
       "      <td>13495.0</td>\n",
       "    </tr>\n",
       "    <tr>\n",
       "      <th>1</th>\n",
       "      <td>0.298429</td>\n",
       "      <td>0.058309</td>\n",
       "      <td>0.413433</td>\n",
       "      <td>0.316667</td>\n",
       "      <td>0.083333</td>\n",
       "      <td>0.411171</td>\n",
       "      <td>0.664286</td>\n",
       "      <td>0.290476</td>\n",
       "      <td>0.1250</td>\n",
       "      <td>0.262500</td>\n",
       "      <td>0.346939</td>\n",
       "      <td>0.222222</td>\n",
       "      <td>0.289474</td>\n",
       "      <td>16500.0</td>\n",
       "    </tr>\n",
       "    <tr>\n",
       "      <th>2</th>\n",
       "      <td>0.298429</td>\n",
       "      <td>0.230321</td>\n",
       "      <td>0.449254</td>\n",
       "      <td>0.433333</td>\n",
       "      <td>0.383333</td>\n",
       "      <td>0.517843</td>\n",
       "      <td>0.100000</td>\n",
       "      <td>0.666667</td>\n",
       "      <td>0.1250</td>\n",
       "      <td>0.441667</td>\n",
       "      <td>0.346939</td>\n",
       "      <td>0.166667</td>\n",
       "      <td>0.263158</td>\n",
       "      <td>16500.0</td>\n",
       "    </tr>\n",
       "    <tr>\n",
       "      <th>3</th>\n",
       "      <td>0.518325</td>\n",
       "      <td>0.384840</td>\n",
       "      <td>0.529851</td>\n",
       "      <td>0.491667</td>\n",
       "      <td>0.541667</td>\n",
       "      <td>0.329325</td>\n",
       "      <td>0.464286</td>\n",
       "      <td>0.633333</td>\n",
       "      <td>0.1875</td>\n",
       "      <td>0.225000</td>\n",
       "      <td>0.551020</td>\n",
       "      <td>0.305556</td>\n",
       "      <td>0.368421</td>\n",
       "      <td>13950.0</td>\n",
       "    </tr>\n",
       "    <tr>\n",
       "      <th>4</th>\n",
       "      <td>0.518325</td>\n",
       "      <td>0.373178</td>\n",
       "      <td>0.529851</td>\n",
       "      <td>0.508333</td>\n",
       "      <td>0.541667</td>\n",
       "      <td>0.518231</td>\n",
       "      <td>0.464286</td>\n",
       "      <td>0.633333</td>\n",
       "      <td>0.0625</td>\n",
       "      <td>0.279167</td>\n",
       "      <td>0.551020</td>\n",
       "      <td>0.138889</td>\n",
       "      <td>0.157895</td>\n",
       "      <td>17450.0</td>\n",
       "    </tr>\n",
       "  </tbody>\n",
       "</table>\n",
       "</div>"
      ],
      "text/plain": [
       "   normalized_lossed  wheel_base    length     width    height  curb_weight  \\\n",
       "0           0.298429    0.058309  0.413433  0.316667  0.083333     0.411171   \n",
       "1           0.298429    0.058309  0.413433  0.316667  0.083333     0.411171   \n",
       "2           0.298429    0.230321  0.449254  0.433333  0.383333     0.517843   \n",
       "3           0.518325    0.384840  0.529851  0.491667  0.541667     0.329325   \n",
       "4           0.518325    0.373178  0.529851  0.508333  0.541667     0.518231   \n",
       "\n",
       "       bore    stroke  compression_ratio  horsepower  peak_rpm  city_mpg  \\\n",
       "0  0.664286  0.290476             0.1250    0.262500  0.346939  0.222222   \n",
       "1  0.664286  0.290476             0.1250    0.262500  0.346939  0.222222   \n",
       "2  0.100000  0.666667             0.1250    0.441667  0.346939  0.166667   \n",
       "3  0.464286  0.633333             0.1875    0.225000  0.551020  0.305556   \n",
       "4  0.464286  0.633333             0.0625    0.279167  0.551020  0.138889   \n",
       "\n",
       "   highway_mpg    price  \n",
       "0     0.289474  13495.0  \n",
       "1     0.289474  16500.0  \n",
       "2     0.263158  16500.0  \n",
       "3     0.368421  13950.0  \n",
       "4     0.157895  17450.0  "
      ]
     },
     "execution_count": 10,
     "metadata": {},
     "output_type": "execute_result"
    }
   ],
   "source": [
    "# Normalize all columns except for the target column\n",
    "\n",
    "price = cars['price']\n",
    "\n",
    "cars = (cars - cars.min()) / (cars.max() - cars.min())\n",
    "\n",
    "cars['price'] = price\n",
    "\n",
    "cars.head()"
   ]
  },
  {
   "cell_type": "markdown",
   "metadata": {},
   "source": [
    "***\n",
    "### 3) Univariate Model"
   ]
  },
  {
   "cell_type": "markdown",
   "metadata": {},
   "source": [
    "+ Create a function, named knn_train_test() that encapsulates the training and simple validation process. This function should have 3 parameters -- training column name, target column name, and the dataframe object.\n",
    "    + This function should split the data set into a training and test set.\n",
    "    + Then, it should instantiate the KNeighborsRegressor class, fit the model on the training set, and make predictions on the test set.\n",
    "    + Finally, it should calculate the RMSE and return that value.\n",
    "+ Use this function to train and test univariate models using the different numeric columns in the data set. Which column performed the best using the default k value?\n",
    "+ Modify the knn_train_test() function you wrote to accept a parameter for the k value.\n",
    "    + Update the function logic to use this parameter.\n",
    "    + For each numeric column, create, train, and test a univariate model using the following k values (1, 3, 5, 7, and 9). Visualize the results using a scatter plot or a line plot."
   ]
  },
  {
   "cell_type": "code",
   "execution_count": 11,
   "metadata": {},
   "outputs": [],
   "source": [
    "from sklearn.neighbors import KNeighborsRegressor\n",
    "from sklearn.model_selection import train_test_split\n",
    "from sklearn.metrics import mean_squared_error\n",
    "\n",
    "\n",
    "def knn_train_test(features_cols, target_col, df):\n",
    "    # shuffle index\n",
    "    shuffled_index = np.random.permutation(df.index)\n",
    "    df_new = df.reindex(shuffled_index)\n",
    "    \n",
    "    # Divide number of rows in half and round\n",
    "    last_train_row = int(len(df_new) / 2)\n",
    "    \n",
    "    # First half = training set and second half = test set\n",
    "    train_df = df_new.iloc[0:last_train_row]\n",
    "    test_df  = df_new.iloc[last_train_row:]\n",
    "    \n",
    "    knn = KNeighborsRegressor(n_neighbors = 5, algorithm = 'brute')\n",
    "    knn.fit(train_df[[features_cols]], train_df[target_col])\n",
    "    y_pred_test = knn.predict(test_df[[features_cols]])\n",
    "    predictions = np.sqrt(mean_squared_error(y_true = test_df[target_col], y_pred = y_pred_test))\n",
    "    return(predictions)"
   ]
  },
  {
   "cell_type": "code",
   "execution_count": 12,
   "metadata": {},
   "outputs": [
    {
     "data": {
      "text/plain": [
       "Index(['normalized_lossed', 'wheel_base', 'length', 'width', 'height',\n",
       "       'curb_weight', 'bore', 'stroke', 'compression_ratio', 'horsepower',\n",
       "       'peak_rpm', 'city_mpg', 'highway_mpg', 'price'],\n",
       "      dtype='object')"
      ]
     },
     "execution_count": 12,
     "metadata": {},
     "output_type": "execute_result"
    }
   ],
   "source": [
    "cars.columns"
   ]
  },
  {
   "cell_type": "code",
   "execution_count": 13,
   "metadata": {},
   "outputs": [
    {
     "name": "stdout",
     "output_type": "stream",
     "text": [
      "1) RMSE for Univariate Model using 'normalized_lossed' is 7176.70438403011 \n",
      "\n",
      "2) RMSE for Univariate Model using 'wheel_base' is 7119.004207387687 \n",
      "\n",
      "3) RMSE for Univariate Model using 'length' is 6485.2844605050595 \n",
      "\n",
      "4) RMSE for Univariate Model using 'width' is 4172.770573916742 \n",
      "\n",
      "5) RMSE for Univariate Model using 'height' is 7492.074066964035 \n",
      "\n",
      "6) RMSE for Univariate Model using 'curb_weight' is 4614.650494978994 \n",
      "\n",
      "7) RMSE for Univariate Model using 'bore' is 7402.539113957593 \n",
      "\n",
      "8) RMSE for Univariate Model using 'Stroke' is 6873.510500378065 \n",
      "\n",
      "9) RMSE for Univariate Model using 'compression_ratio' is 7580.764612227338 \n",
      "\n",
      "10) RMSE for Univariate Model using 'horsepower' is 4334.14815699399 \n",
      "\n",
      "11) RMSE for Univariate Model using 'bore' is 7387.04101317006 \n",
      "\n",
      "12) RMSE for Univariate Model using 'Stroke' is 4921.718907393351 \n",
      "\n",
      "13) RMSE for Univariate Model using 'highway_mpg' is 3843.203932147261 \n",
      "\n",
      "**Conclusion** The minimum RMSE for Univariate Model is the model using 'horsepower' as the sole feature.\n"
     ]
    }
   ],
   "source": [
    "rmse_normalized_lossed = knn_train_test('normalized_lossed', 'price', cars)\n",
    "print(\"1) RMSE for Univariate Model using 'normalized_lossed' is\", rmse_normalized_lossed, \"\\n\")\n",
    "\n",
    "rmse_wheel_base = knn_train_test('wheel_base', 'price', cars)\n",
    "print(\"2) RMSE for Univariate Model using 'wheel_base' is\", rmse_wheel_base, \"\\n\")\n",
    "\n",
    "rmse_length = knn_train_test('length', 'price', cars)\n",
    "print(\"3) RMSE for Univariate Model using 'length' is\", rmse_length, \"\\n\")\n",
    "\n",
    "rmse_width = knn_train_test('width', 'price', cars)\n",
    "print(\"4) RMSE for Univariate Model using 'width' is\", rmse_width, \"\\n\")\n",
    "\n",
    "rmse_height = knn_train_test('height', 'price', cars)\n",
    "print(\"5) RMSE for Univariate Model using 'height' is\", rmse_height, \"\\n\")\n",
    "\n",
    "rmse_curb_weight = knn_train_test('curb_weight', 'price', cars)\n",
    "print(\"6) RMSE for Univariate Model using 'curb_weight' is\", rmse_curb_weight, \"\\n\")\n",
    "\n",
    "rmse_bore = knn_train_test('bore', 'price', cars)\n",
    "print(\"7) RMSE for Univariate Model using 'bore' is\", rmse_bore, \"\\n\")\n",
    "\n",
    "rmse_stroke = knn_train_test('stroke', 'price', cars)\n",
    "print(\"8) RMSE for Univariate Model using 'Stroke' is\", rmse_stroke, \"\\n\")\n",
    "\n",
    "rmse_compression_ratio = knn_train_test('compression_ratio', 'price', cars)\n",
    "print(\"9) RMSE for Univariate Model using 'compression_ratio' is\", rmse_compression_ratio, \"\\n\")\n",
    "\n",
    "rmse_horsepower = knn_train_test('horsepower', 'price', cars)\n",
    "print(\"10) RMSE for Univariate Model using 'horsepower' is\", rmse_horsepower, \"\\n\")\n",
    "\n",
    "rmse_peak_rpm = knn_train_test('peak_rpm', 'price', cars)\n",
    "print(\"11) RMSE for Univariate Model using 'bore' is\", rmse_peak_rpm, \"\\n\")\n",
    "\n",
    "rmse_city_mpg = knn_train_test('city_mpg', 'price', cars)\n",
    "print(\"12) RMSE for Univariate Model using 'Stroke' is\", rmse_city_mpg, \"\\n\")\n",
    "\n",
    "rmse_highway_mpg = knn_train_test('highway_mpg', 'price', cars)\n",
    "print(\"13) RMSE for Univariate Model using 'highway_mpg' is\", rmse_highway_mpg, \"\\n\")\n",
    "\n",
    "print(\"**Conclusion** The minimum RMSE for Univariate Model is the model using 'horsepower' as the sole feature.\")"
   ]
  },
  {
   "cell_type": "markdown",
   "metadata": {},
   "source": [
    "***\n",
    "+ Modify the knn_train_test() function you wrote to accept a parameter for the k value.\n",
    "    + Update the function logic to use this parameter.\n",
    "    + For each numeric column, create, train, and test a univariate model using the following k values (1, 3, 5, 7, and 9). Visualize the results using a scatter plot or a line plot."
   ]
  },
  {
   "cell_type": "code",
   "execution_count": 14,
   "metadata": {},
   "outputs": [],
   "source": [
    "from sklearn.neighbors import KNeighborsRegressor\n",
    "from sklearn.model_selection import train_test_split\n",
    "from sklearn.metrics import mean_squared_error\n",
    "\n",
    "\n",
    "def knn_train_test_updated(features_cols, target_col, k_list, df):\n",
    "    # shuffle index\n",
    "    shuffled_index = np.random.permutation(df.index)\n",
    "    df_new = df.reindex(shuffled_index)\n",
    "    \n",
    "    # Divide number of rows in half and round\n",
    "    last_train_row = int(len(df_new) / 2)\n",
    "    \n",
    "    # First half = training set and second half = test set\n",
    "    train_df = df_new.iloc[0:last_train_row]\n",
    "    test_df  = df_new.iloc[last_train_row:]\n",
    "    \n",
    "    predictions_list = []\n",
    "    for i in range(0,5):\n",
    "        knn = KNeighborsRegressor(n_neighbors = k_list[i], algorithm = 'brute')\n",
    "        knn.fit(train_df[[features_cols]], train_df[target_col])\n",
    "        y_pred_test = knn.predict(test_df[[features_cols]])\n",
    "        predictions = np.sqrt(mean_squared_error(y_true = test_df[target_col], y_pred = y_pred_test))\n",
    "        predictions_list.append(predictions)\n",
    "    return(predictions_list)"
   ]
  },
  {
   "cell_type": "code",
   "execution_count": 15,
   "metadata": {},
   "outputs": [
    {
     "name": "stdout",
     "output_type": "stream",
     "text": [
      "rmse_wheel_base_updated for k = [1, 3, 5, 7, 9]: \n",
      "[4607.754718116367, 6474.451537438568, 6071.921960256874, 6348.84962160766, 6462.705420215577]\n",
      "\n",
      "rmse_length_updated for k = [1, 3, 5, 7, 9]: \n",
      "[4343.38456498156, 4622.846257974149, 4833.805349696352, 4964.700043641013, 4962.3703762923915]\n",
      "\n",
      "rmse_width_updated for k = [1, 3, 5, 7, 9]: \n",
      "[5393.646212778406, 5181.69661173502, 4440.062507873012, 4201.925401516619, 4218.0058055623]\n",
      "\n",
      "rmse_height_updated for k = [1, 3, 5, 7, 9]: \n",
      "[8924.09161020437, 8355.845408550278, 7629.061910273322, 7502.630356103813, 7766.344478578241]\n",
      "\n",
      "rmse_curb_weight_updated for k = [1, 3, 5, 7, 9]: \n",
      "[5669.723476771731, 4881.615088120907, 4880.272732551752, 4855.290041413753, 5165.98705500241]\n",
      "\n",
      "rmse_bore_updated for k = [1, 3, 5, 7, 9]: \n",
      "[8349.465476169971, 6570.7783523920025, 7000.217959271822, 6492.027596192158, 6267.540784385589]\n",
      "\n",
      "rmse_stroke_updated for k = [1, 3, 5, 7, 9]: \n",
      "[5646.189565377437, 6090.8758679197545, 6171.145723169274, 6531.363173153832, 6615.537450734943]\n",
      "\n",
      "rmse_compression_ratio_updated for k = [1, 3, 5, 7, 9]: \n",
      "[7605.560824147799, 7216.2575636665315, 6785.811217501969, 6642.015089988995, 6680.197280933071]\n",
      "\n",
      "rmse_horsepower_updated for k = [1, 3, 5, 7, 9]: \n",
      "[4621.561706435376, 4965.124042661423, 4716.028528603575, 4595.178278062753, 4831.224782103957]\n",
      "\n",
      "rmse_peak_rpm_updated for k = [1, 3, 5, 7, 9]: \n",
      "[6581.606639213895, 5592.149288584636, 6910.55517371461, 6886.733711767983, 6721.107198845355]\n",
      "\n",
      "rmse_city_mpg_updated for k = [1, 3, 5, 7, 9]: \n",
      "[4868.013530126492, 5789.561046223833, 5602.30570966023, 4902.72575181246, 4840.7249919495625]\n",
      "\n",
      "rmse_highway_mpg_updated for k = [1, 3, 5, 7, 9]: \n",
      "[4842.606669405753, 4871.678110069341, 4752.733516353489, 4706.003423526307, 4868.74065917922]\n",
      "\n",
      "rmse_price_updated for k = [1, 3, 5, 7, 9]: \n",
      "[1043.8419191697221, 1292.4948924890155, 1516.4927485980227, 1886.0756082025255, 2280.880881581639]\n",
      "\n"
     ]
    }
   ],
   "source": [
    "# rmse_highway_mpg = knn_train_test('highway_mpg', 'price', cars)\n",
    "# RMSE for Univariate Model using 'Stroke' is 4695.9806585797205 \n",
    "\n",
    "for i in range(1,14):\n",
    "    name = cars.columns[i]\n",
    "    rmse = knn_train_test_updated(cars.columns[i], 'price', [1,3,5,7,9], cars)\n",
    "    rmse_name = print(\"rmse_\" + name + \"_updated for k = [1, 3, 5, 7, 9]: \\n\" + str(rmse) + \"\\n\")\n",
    "\n",
    "rmse_name"
   ]
  },
  {
   "cell_type": "code",
   "execution_count": 16,
   "metadata": {},
   "outputs": [
    {
     "data": {
      "text/plain": [
       "<matplotlib.collections.PathCollection at 0x1a151c8ac8>"
      ]
     },
     "execution_count": 16,
     "metadata": {},
     "output_type": "execute_result"
    },
    {
     "data": {
      "image/png": "[encoded data removed]",
      "text/plain": [
       "<Figure size 432x288 with 1 Axes>"
      ]
     },
     "metadata": {
      "needs_background": "light"
     },
     "output_type": "display_data"
    }
   ],
   "source": [
    "plt.scatter(x = [1,3,5,7,9], y = knn_train_test_updated(cars.columns[1], 'price', [1,3,5,7,9], cars))"
   ]
  },
  {
   "cell_type": "code",
   "execution_count": 17,
   "metadata": {},
   "outputs": [
    {
     "data": {
      "text/plain": [
       "[4172.0451622234405,\n",
       " 6092.973376827821,\n",
       " 6132.144942616496,\n",
       " 6286.452983574796,\n",
       " 6347.705369832772]"
      ]
     },
     "execution_count": 17,
     "metadata": {},
     "output_type": "execute_result"
    }
   ],
   "source": [
    "knn_train_test_updated(cars.columns[1], 'price', [1,3,5,7,9], cars)"
   ]
  },
  {
   "cell_type": "code",
   "execution_count": 18,
   "metadata": {},
   "outputs": [
    {
     "data": {
      "text/plain": [
       "'normalized_lossed'"
      ]
     },
     "execution_count": 18,
     "metadata": {},
     "output_type": "execute_result"
    }
   ],
   "source": [
    "cars.columns[0]"
   ]
  },
  {
   "cell_type": "code",
   "execution_count": 19,
   "metadata": {},
   "outputs": [
    {
     "data": {
      "image/png": "[encoded data removed]",
      "text/plain": [
       "<Figure size 2160x1440 with 29 Axes>"
      ]
     },
     "metadata": {},
     "output_type": "display_data"
    }
   ],
   "source": [
    "fig, ax = plt.subplots(nrows = 4, ncols = 4, figsize = (30,20))\n",
    "\n",
    "plt.setp(plt.gcf().get_axes(), xticks=[], yticks=[])\n",
    "for i in range(1,14):\n",
    "    ax = fig.add_subplot(4,4,i)\n",
    "    ax.set_xticklabels([])\n",
    "    ax.set_yticklabels([])\n",
    "    ax.set_xticks([])\n",
    "    ax.set_yticks([])\n",
    "    plt.setp(plt.gcf().get_axes(), xticks=[], yticks=[])\n",
    "    ax.scatter(x = [1,3,5,7,9], y = knn_train_test_updated(cars.columns[i-1], 'price', [1,3,5,7,9], cars))\n",
    "    ax.set_title(\"k vs.\" + \"rmse_\" + str(cars.columns[i-1]))\n",
    "    \n",
    "plt.show()"
   ]
  },
  {
   "cell_type": "markdown",
   "metadata": {},
   "source": [
    "***\n",
    "### 4) Multivariate Model"
   ]
  },
  {
   "cell_type": "markdown",
   "metadata": {},
   "source": [
    "+ Modify the knn_train_test() function to accept a list of column names (instead of just a string). Modify the rest of the function logic to use this parameter:\n",
    "    + Instead of using just a single column for train and test, use all of the columns passed in.\n",
    "    + Use a the default k value from scikit-learn for now (we'll tune the k value in the next step).\n",
    "+ Use the best 2 features from the previous step to train and test a multivariate k-nearest neighbors model using the default k value.\n",
    "+ Use the best 3 features from the previous step to train and test a multivariate k-nearest neighbors model using the default k value.\n",
    "+ Use the best 4 features from the previous step to train and test a multivariate k-nearest neighbors model using the default k value.\n",
    "+ Use the best 5 features from the previous step to train and test a multivariate k-nearest neighbors model using the default k value.\n",
    "+ Display all of the RMSE values."
   ]
  },
  {
   "cell_type": "code",
   "execution_count": 20,
   "metadata": {},
   "outputs": [],
   "source": [
    "from sklearn.neighbors import KNeighborsRegressor\n",
    "from sklearn.model_selection import train_test_split\n",
    "from sklearn.metrics import mean_squared_error\n",
    "\n",
    "\n",
    "def knn_train_test_multi(features_cols, target_col, df):\n",
    "    # shuffle index\n",
    "    shuffled_index = np.random.permutation(df.index)\n",
    "    df_new = df.reindex(shuffled_index)\n",
    "    \n",
    "    # Divide number of rows in half and round\n",
    "    last_train_row = int(len(df_new) / 2)\n",
    "    \n",
    "    # First half = training set and second half = test set\n",
    "    train_df = df_new.iloc[0:last_train_row]\n",
    "    test_df  = df_new.iloc[last_train_row:]\n",
    "    \n",
    "    knn = KNeighborsRegressor(n_neighbors = 5, algorithm = 'brute')\n",
    "    knn.fit(train_df[features_cols], train_df[target_col])\n",
    "    y_pred_test = knn.predict(test_df[features_cols])\n",
    "    predictions = np.sqrt(mean_squared_error(y_true = test_df[target_col], y_pred = y_pred_test))\n",
    "    return(predictions)"
   ]
  },
  {
   "cell_type": "markdown",
   "metadata": {},
   "source": [
    "#### 4.1. Use all the features from the previous step to train and test a multivariate k-nearest neighbors model using the default k value."
   ]
  },
  {
   "cell_type": "code",
   "execution_count": 21,
   "metadata": {},
   "outputs": [
    {
     "data": {
      "text/plain": [
       "['normalized_lossed',\n",
       " 'wheel_base',\n",
       " 'length',\n",
       " 'width',\n",
       " 'height',\n",
       " 'curb_weight',\n",
       " 'bore',\n",
       " 'stroke',\n",
       " 'compression_ratio',\n",
       " 'horsepower',\n",
       " 'peak_rpm',\n",
       " 'city_mpg',\n",
       " 'highway_mpg',\n",
       " 'price']"
      ]
     },
     "execution_count": 21,
     "metadata": {},
     "output_type": "execute_result"
    }
   ],
   "source": [
    "num_cols"
   ]
  },
  {
   "cell_type": "code",
   "execution_count": 22,
   "metadata": {},
   "outputs": [
    {
     "name": "stdout",
     "output_type": "stream",
     "text": [
      "The RMSE value for the KNN multivariate model with all features and the default k value is: 4087.1361776940817\n"
     ]
    }
   ],
   "source": [
    "all_features = ['normalized_lossed', 'wheel_base', 'length','width','height', 'curb_weight','bore','stroke','compression_ratio','horsepower','peak_rpm','city_mpg','highway_mpg']\n",
    "\n",
    "print(\"The RMSE value for the KNN multivariate model with all features and the default k value is:\", knn_train_test_multi(all_features, 'price', cars))"
   ]
  },
  {
   "cell_type": "markdown",
   "metadata": {},
   "source": [
    "#### 4.2. Use the best 2 features from the previous step to train and test a multivariate k-nearest neighbors model using the default k value."
   ]
  },
  {
   "cell_type": "code",
   "execution_count": 23,
   "metadata": {},
   "outputs": [
    {
     "name": "stdout",
     "output_type": "stream",
     "text": [
      "The RMSE value for the KNN multivariate model with the two best features and the default k value is: 4005.7574118123816\n"
     ]
    }
   ],
   "source": [
    "best_two_features = ['curb_weight', 'stroke']\n",
    "print(\"The RMSE value for the KNN multivariate model with the two best features and the default k value is:\", knn_train_test_multi(best_two_features, 'price', cars))"
   ]
  },
  {
   "cell_type": "markdown",
   "metadata": {},
   "source": [
    "#### 4.3. Use the best 3 features from the previous step to train and test a multivariate k-nearest neighbors model using the default k value"
   ]
  },
  {
   "cell_type": "code",
   "execution_count": 24,
   "metadata": {},
   "outputs": [
    {
     "name": "stdout",
     "output_type": "stream",
     "text": [
      "The RMSE value for the KNN multivariate model with the three best features and the default k value is: 4180.012487438331\n"
     ]
    }
   ],
   "source": [
    "best_three_features = ['curb_weight', 'stroke', 'horsepower']\n",
    "print(\"The RMSE value for the KNN multivariate model with the three best features and the default k value is:\", knn_train_test_multi(best_three_features, 'price', cars))"
   ]
  },
  {
   "cell_type": "markdown",
   "metadata": {},
   "source": [
    "#### 4.4. Use the best 4 features from the previous step to train and test a multivariate k-nearest neighbors model using the default k value"
   ]
  },
  {
   "cell_type": "code",
   "execution_count": 25,
   "metadata": {},
   "outputs": [
    {
     "name": "stdout",
     "output_type": "stream",
     "text": [
      "The RMSE value for the KNN multivariate model with the four best features and the default k value is: 4303.929480160872\n"
     ]
    }
   ],
   "source": [
    "best_four_features = ['curb_weight', 'stroke', 'horsepower', 'highway_mpg']\n",
    "print(\"The RMSE value for the KNN multivariate model with the four best features and the default k value is:\", knn_train_test_multi(best_four_features, 'price', cars))"
   ]
  },
  {
   "cell_type": "markdown",
   "metadata": {},
   "source": [
    "#### 4.5 Use the best 5 features from the previous step to train and test a multivariate k-nearest neighbors model using the default k value"
   ]
  },
  {
   "cell_type": "code",
   "execution_count": 26,
   "metadata": {},
   "outputs": [
    {
     "name": "stdout",
     "output_type": "stream",
     "text": [
      "The RMSE value for the KNN multivariate model with the five best features and the default k value is: 3791.204292572446\n"
     ]
    }
   ],
   "source": [
    "best_five_features = ['curb_weight', 'stroke', 'horsepower', 'highway_mpg', 'width']\n",
    "print(\"The RMSE value for the KNN multivariate model with the five best features and the default k value is:\", knn_train_test_multi(best_five_features, 'price', cars))"
   ]
  },
  {
   "cell_type": "markdown",
   "metadata": {},
   "source": [
    "***\n",
    "### 5) Hyperparameter Tuning\n",
    "\n",
    "+ For the top 3 models in the last step, vary the hyperparameter value from 1 to 25 and plot the resulting RMSE values.\n",
    "+ Which k value is optimal for each model? How different are the k values and what do you think accounts for the differences?"
   ]
  },
  {
   "cell_type": "code",
   "execution_count": 27,
   "metadata": {},
   "outputs": [],
   "source": [
    "def knn_train_test_multi_updated(features_cols, target_col, k_list, df):\n",
    "    # shuffle index\n",
    "    shuffled_index = np.random.permutation(df.index)\n",
    "    df_new = df.reindex(shuffled_index)\n",
    "    \n",
    "    # Divide number of rows in half and round\n",
    "    last_train_row = int(len(df_new) / 2)\n",
    "    \n",
    "    # First half = training set and second half = test set\n",
    "    train_df = df_new.iloc[0:last_train_row]\n",
    "    test_df  = df_new.iloc[last_train_row:]\n",
    "    \n",
    "    predictions_list = []\n",
    "    for i in range(0,25):\n",
    "        knn = KNeighborsRegressor(n_neighbors = k_list[i], algorithm = 'brute')\n",
    "        knn.fit(train_df[features_cols], train_df[target_col])\n",
    "        y_pred_test = knn.predict(test_df[features_cols])\n",
    "        predictions = np.sqrt(mean_squared_error(y_true = test_df[target_col], y_pred = y_pred_test))\n",
    "        predictions_list.append(predictions)\n",
    "    return(predictions_list)"
   ]
  },
  {
   "cell_type": "code",
   "execution_count": 28,
   "metadata": {},
   "outputs": [
    {
     "data": {
      "text/plain": [
       "<matplotlib.collections.PathCollection at 0x1a16520240>"
      ]
     },
     "execution_count": 28,
     "metadata": {},
     "output_type": "execute_result"
    },
    {
     "data": {
      "image/png": "[encoded data removed]",
      "text/plain": [
       "<Figure size 432x288 with 1 Axes>"
      ]
     },
     "metadata": {
      "needs_background": "light"
     },
     "output_type": "display_data"
    }
   ],
   "source": [
    "rmse_four_features = knn_train_test_multi_updated(best_four_features, 'price', list(range(1,26)), cars)\n",
    "\n",
    "plt.scatter(x = list(range(1,26)), y = rmse_four_features) # optimal k: k = 1"
   ]
  },
  {
   "cell_type": "code",
   "execution_count": 29,
   "metadata": {},
   "outputs": [
    {
     "data": {
      "text/plain": [
       "<matplotlib.collections.PathCollection at 0x1a1709dac8>"
      ]
     },
     "execution_count": 29,
     "metadata": {},
     "output_type": "execute_result"
    },
    {
     "data": {
      "image/png": "[encoded data removed]",
      "text/plain": [
       "<Figure size 432x288 with 1 Axes>"
      ]
     },
     "metadata": {
      "needs_background": "light"
     },
     "output_type": "display_data"
    }
   ],
   "source": [
    "rmse_five_features = knn_train_test_multi_updated(best_five_features, 'price', list(range(1,26)), cars)\n",
    "\n",
    "plt.scatter(x = list(range(1,26)), y = rmse_five_features) # optimal k: k = 2"
   ]
  },
  {
   "cell_type": "code",
   "execution_count": 30,
   "metadata": {},
   "outputs": [
    {
     "data": {
      "text/plain": [
       "<matplotlib.collections.PathCollection at 0x1a1725a630>"
      ]
     },
     "execution_count": 30,
     "metadata": {},
     "output_type": "execute_result"
    },
    {
     "data": {
      "image/png": "[encoded data removed]",
      "text/plain": [
       "<Figure size 432x288 with 1 Axes>"
      ]
     },
     "metadata": {
      "needs_background": "light"
     },
     "output_type": "display_data"
    }
   ],
   "source": [
    "rmse_two_features = knn_train_test_multi_updated(best_two_features, 'price', list(range(1,26)), cars)\n",
    "\n",
    "plt.scatter(x = list(range(1,26)), y = rmse_two_features) # optimal k: k = 1"
   ]
  },
  {
   "cell_type": "code",
   "execution_count": null,
   "metadata": {},
   "outputs": [],
   "source": []
  },
  {
   "cell_type": "code",
   "execution_count": null,
   "metadata": {},
   "outputs": [],
   "source": []
  }
 ],
 "metadata": {
  "kernelspec": {
   "display_name": "Python 3",
   "language": "python",
   "name": "python3"
  },
  "language_info": {
   "codemirror_mode": {
    "name": "ipython",
    "version": 3
   },
   "file_extension": ".py",
   "mimetype": "text/x-python",
   "name": "python",
   "nbconvert_exporter": "python",
   "pygments_lexer": "ipython3",
   "version": "3.7.2"
  }
 },
 "nbformat": 4,
 "nbformat_minor": 2
}
