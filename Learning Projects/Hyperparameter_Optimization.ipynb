{
 "cells": [
  {
   "cell_type": "markdown",
   "metadata": {},
   "source": [
    "### 1) Recap\n",
    "\n",
    "In the last mission, we focused on increasing the number of attributes the model uses. We saw how, in general, adding more attributes generally lowered the error of the model. This is because the model is able to do a better job identifying the living spaces from the training set that are the most similar to the ones from the test set. However, we also observed how using all of the available features didn't actually improve the model's accuracy automatically and that some of the features were probably not relevant for similarity ranking. We learned that selecting relevant features was the right lever when improving a model's accuracy, not just increasing the features used in the absolute.\n",
    "\n",
    "In this mission, we'll **focus on the impact of increasing k**, the number of nearby neighbors the model uses to make predictions. We exported both the training (train_df) and test sets (test_df) from the last missions to CSV files, dc_airbnb_train.csv and dc_airbnb_test.csv respectively. Let's read both these CSV's into Dataframes."
   ]
  },
  {
   "cell_type": "code",
   "execution_count": 1,
   "metadata": {},
   "outputs": [],
   "source": [
    "import pandas as pd\n",
    "\n",
    "# Read dc_airbnb_train.csv into a Dataframe and assign to train_df.\n",
    "train_df = pd.read_csv('dc_airbnb_train.csv')\n",
    "\n",
    "# Read dc_airbnb_test.csv into a Dataframe and assign to test_df.\n",
    "test_df = pd.read_csv('dc_airbnb_test.csv')"
   ]
  },
  {
   "cell_type": "markdown",
   "metadata": {},
   "source": [
    "***\n",
    "### 2) Hyperparameter Optimization\n",
    "\n",
    "When we vary the features that are used in the model, we're affecting the data that the model uses. On the other hand, **varying the k value affects the behavior of the model independently of the actual data that's used when making predictions**. In other words, we're impacting how the model performs without trying to change the data that's used.\n",
    "\n",
    "Values that affect the behavior and performance of a model that are unrelated to the data that's used are referred to as **hyperparameters**. The process of finding the optimal hyperparameter value is known as hyperparameter optimization. A simple but common hyperparameter optimization technique is known as **grid search**, which involves:\n",
    "\n",
    "+ **selecting** a subset of the possible hyperparameter values,\n",
    "+ **training** a model using each of these hyperparameter values,\n",
    "+ **evaluating** each model's performance,\n",
    "+ **selecting** the hyperparameter value that resulted in the lowest error value.\n",
    "\n",
    "Grid search essentially boils down to **evaluating the model performance at different k values** and selecting the k value that resulted in the lowest error. While grid search can take a long time when working with large datasets, the data we're working with in this mission is small and this process is relatively quick.\n",
    "\n",
    "Let's confirm that grid search will work quickly for the dataset we're working with by first observing how the model performance changes as we increase the k value from 1 to 5. If you recall, we set 5 as the k value for the last 2 missions. Let's use the features from the last mission that resulted in the best model accuracy:\n",
    "\n",
    "+ **accommodates**\n",
    "+ **bedrooms**\n",
    "+ **bathrooms**\n",
    "+ **number_of_reviews**"
   ]
  },
  {
   "cell_type": "code",
   "execution_count": 2,
   "metadata": {},
   "outputs": [
    {
     "name": "stdout",
     "output_type": "stream",
     "text": [
      "[26364.92832764505, 15100.52246871445, 14578.804070281883, 15946.721060864618, 14119.735836177475]\n"
     ]
    }
   ],
   "source": [
    "from sklearn.neighbors import KNeighborsRegressor\n",
    "from sklearn.metrics import mean_squared_error\n",
    "\n",
    "## Create a list containing the integer values 1, 2, 3, 4, and 5, in that order, and assign to hyper_params.\n",
    "hyper_params = [1,2,3,4,5]\n",
    "\n",
    "## Create an empty list and assign to mse_values.\n",
    "mse_values = []\n",
    "\n",
    "## Use a for loop to iterate over hyper_params and in each iteration:\n",
    "# Instantiate a KNeighborsRegressor object with the following parameters:\n",
    "    # n_neighbors: the current value for the iterator variable,\n",
    "    # algorithm: brute\n",
    "# Fit the instantiated k-nearest neighbors model to the following columns from train_df:\n",
    "    # accommodates\n",
    "    # bedrooms\n",
    "    # bathrooms\n",
    "    # number_of_reviews\n",
    "# Use the trained model to make predictions on the same columns from test_df and assign to predictions.\n",
    "# Use the mean_squared_error function to calculate the MSE value between predictions and the price column from test_df.\n",
    "# Append the MSE value to mse_values.\n",
    "features_cols = ['accommodates', 'bedrooms', 'bathrooms', 'number_of_reviews']\n",
    "target_col    = ['price']\n",
    "for hp in hyper_params:\n",
    "    knn = KNeighborsRegressor(n_neighbors = hp, algorithm = 'brute')\n",
    "    knn.fit(train_df[features_cols], train_df[target_col])\n",
    "    predictions = knn.predict(test_df[features_cols])\n",
    "    mse = mean_squared_error(y_true = test_df[target_col], y_pred = predictions)\n",
    "    mse_values.append(mse)\n",
    "    \n",
    "## Display mse_values using the print() function.\n",
    "print(mse_values)"
   ]
  },
  {
   "cell_type": "markdown",
   "metadata": {},
   "source": [
    "***\n",
    "### 3) Expanding Grid Search\n",
    "Since our dataset is small and scikit-learn has been developed with performance in mind, the code ran quickly. As we increased the k value from 1 to 5, the MSE value fell from approximately 26364 to approximately 14090:\n",
    "\n",
    "![MSE](mse.png)\n",
    "\n",
    "Let's expand grid search all the way to a k value of 20. While 20 may seem like an arbitrary ending point for our grid search, we can always expand the values we try if we're unconvinced that the lowest MSE value is associated with one of the hyperparamter values we tried so far."
   ]
  },
  {
   "cell_type": "code",
   "execution_count": 4,
   "metadata": {},
   "outputs": [
    {
     "name": "stdout",
     "output_type": "stream",
     "text": [
      "[26364.92832764505, 15100.52246871445, 14578.804070281883, 15946.721060864618, 14119.735836177475, 13495.78156996587, 14209.360474565252, 14615.818988196814, 14591.371971516453, 14608.888509670078, 14747.643537453343, 14802.514876437872, 14726.607851848858, 14788.004486777645, 14775.071925167487, 14846.632372546928, 14801.420334526101, 14761.434233626876, 14750.644695086017, 14653.391259954493]\n"
     ]
    }
   ],
   "source": [
    "from sklearn.neighbors import KNeighborsRegressor\n",
    "from sklearn.metrics import mean_squared_error\n",
    "\n",
    "hyper_params = [x for x in range(1,21)]\n",
    "mse_values   = []\n",
    "features_cols = ['accommodates', 'bedrooms', 'bathrooms', 'number_of_reviews']\n",
    "target_col    = ['price'] \n",
    "\n",
    "for hp in hyper_params:\n",
    "    knn = KNeighborsRegressor(n_neighbors = hp, algorithm = 'brute')\n",
    "    knn.fit(train_df[features_cols], train_df[target_col])\n",
    "    predictions = knn.predict(test_df[features_cols])\n",
    "    mse = mean_squared_error(y_true = test_df[target_col], y_pred = predictions)\n",
    "    mse_values.append(mse)\n",
    "\n",
    "print(mse_values)"
   ]
  },
  {
   "cell_type": "markdown",
   "metadata": {},
   "source": [
    "***\n",
    "### 4) Visualizing Hypermarameter Values\n",
    "\n",
    "As we increased the k value from 1 to 6, the MSE value decreased from approximately 26364 to approximately 13657. However, as we increased the k value from 7 to 20, the MSE value didn't decrease further but instead hovered between approximately 14288 and 14870. This means that the optimal k value is 6, since it resulted in the lowest MSE value.\n",
    "\n",
    "This pattern is something you'll notice while performing grid search across other models as well. As you increase k at first, the error rate decreases until a certain point, but then rebounds and increases again. Let's confirm this behavior visually using a scatter plot."
   ]
  },
  {
   "cell_type": "code",
   "execution_count": 6,
   "metadata": {},
   "outputs": [
    {
     "data": {
      "image/png": "[encoded data removed]",
      "text/plain": [
       "<Figure size 432x288 with 1 Axes>"
      ]
     },
     "metadata": {
      "needs_background": "light"
     },
     "output_type": "display_data"
    }
   ],
   "source": [
    "import matplotlib.pyplot as plt\n",
    "\n",
    "# Use the scatter() method from matplotlib.pyplot to generate a line plot with:\n",
    "    # hyper_params on the x-axis,\n",
    "    # mse_values on the y-axis.\n",
    "    \n",
    "# Use plt.show() to display the line plot.\n",
    "\n",
    "plt.scatter(x = hyper_params, y = mse_values)\n",
    "\n",
    "plt.show()"
   ]
  },
  {
   "cell_type": "markdown",
   "metadata": {},
   "source": [
    "***\n",
    "### 5) Varying Features and Hyperparameters\n",
    "\n",
    "From the scatter plot, you can tell that the lowest MSE value was achieved at the k value of 6. As we increased k past 6, the MSE actually increased and hovered but never decreased below 13657 (the approximate MSE value when k was 6).\n",
    "\n",
    "Since varying the k value decreased the MSE value for this model, you may be wondering if repeating the grid search process for one of the models from the last mission that performed poorly when we fixed k to 5 would result in a lower MSE value. Let's try it out!"
   ]
  },
  {
   "cell_type": "code",
   "execution_count": 7,
   "metadata": {},
   "outputs": [
    {
     "data": {
      "text/plain": [
       "Index(['accommodates', 'bedrooms', 'bathrooms', 'beds', 'price',\n",
       "       'minimum_nights', 'maximum_nights', 'number_of_reviews'],\n",
       "      dtype='object')"
      ]
     },
     "execution_count": 7,
     "metadata": {},
     "output_type": "execute_result"
    }
   ],
   "source": [
    "train_df.columns"
   ]
  },
  {
   "cell_type": "code",
   "execution_count": 11,
   "metadata": {},
   "outputs": [
    {
     "name": "stdout",
     "output_type": "stream",
     "text": [
      "[26364.92832764505, 15100.52246871445, 14578.804070281883, 15946.721060864618, 14119.735836177475, 13495.78156996587, 14209.360474565252, 14615.818988196814, 14591.371971516453, 14608.888509670078, 14747.643537453343, 14802.514876437872, 14726.607851848858, 14788.004486777645, 14775.071925167487, 14846.632372546928, 14801.420334526101, 14761.434233626876, 14750.644695086017, 14653.391259954493]\n"
     ]
    },
    {
     "data": {
      "image/png": "[encoded data removed]",
      "text/plain": [
       "<Figure size 432x288 with 1 Axes>"
      ]
     },
     "metadata": {
      "needs_background": "light"
     },
     "output_type": "display_data"
    }
   ],
   "source": [
    "import matplotlib.pyplot as plt\n",
    "%matplotlib inline\n",
    "\n",
    "from sklearn.neighbors import KNeighborsRegressor\n",
    "from sklearn.metrics import mean_squared_error\n",
    "\n",
    "hyper_params = [x for x in range(1,21)]\n",
    "\n",
    "mse_values    = []\n",
    "\n",
    "features_cols = ['accommodates', 'bedrooms', 'bathrooms', 'number_of_reviews']\n",
    "target_col    = ['price']\n",
    "\n",
    "for hp in hyper_params:\n",
    "    knn = KNeighborsRegressor(n_neighbors = hp, algorithm = 'brute')\n",
    "    knn.fit(train_df[features_cols], train_df[target_col])\n",
    "    predictions = knn.predict(test_df[features_cols])\n",
    "    mse = mean_squared_error(y_true = test_df[target_col], y_pred = predictions)\n",
    "    mse_values.append(mse)\n",
    "    \n",
    "print(mse_values)\n",
    "\n",
    "plt.scatter(x = hyper_params, y = mse_values)\n",
    "plt.show()"
   ]
  },
  {
   "cell_type": "markdown",
   "metadata": {},
   "source": [
    "***\n",
    "### 6) Practice the Workflow\n",
    "\n",
    "You may have noticed that the general workflow for finding the best model is:\n",
    "\n",
    "+ select relevant features to use for predicting the target column.\n",
    "+ use grid search to find the optimal hyperparameter value for the selected features.\n",
    "+ evaluate the model's accuracy and repeat the process.\n",
    "\n",
    "Let's now practice this workflow."
   ]
  },
  {
   "cell_type": "code",
   "execution_count": 32,
   "metadata": {},
   "outputs": [
    {
     "name": "stdout",
     "output_type": "stream",
     "text": [
      "[26926.755403868032, 20520.37087599545, 16105.879155606117, 15347.2223407281, 14790.314266211606, 15052.901592719, 15490.135984769335, 15440.138243031854, 15303.237784238543, 15196.406825938568, 16760.983264227758, 16399.206626848692, 16303.162025163076, 16410.537681966987, 16748.260766021995, 16741.588968287826, 16904.970960237137, 16921.14723872526, 17659.213586327955, 17583.783171217292]\n",
      "{5: 14790.314266211606}\n"
     ]
    }
   ],
   "source": [
    "import numpy as np\n",
    "from sklearn.neighbors import KNeighborsRegressor\n",
    "from sklearn.metrics import mean_squared_error\n",
    "\n",
    "## While using only the accommodates and bathrooms columns:\n",
    "\n",
    "features_cols = ['accommodates', 'bathrooms']\n",
    "target_col    = ['price']\n",
    "\n",
    "# Train a model for each k value between 1 and 20 using the training data.\n",
    "# Use each model to make predictions on the test set (using just the accommodates and bathrooms columns).\n",
    "# Calculate each model's MSE value by comparing each set of predictions to the true price values.\n",
    "# Find the k value that obtained the lowest MSE value.\n",
    "# Create a dictionary named two_hyp_mse that contains 1 key-value pair:\n",
    "    # key: k value that resulted in lowest MSE value.\n",
    "    # value: corresponding MSE value.\n",
    "\n",
    "hyper_params = [x for x in range(1,21)]\n",
    "two_mse_values   = []\n",
    "two_hyp_mse  = {}\n",
    "\n",
    "for hp in hyper_params:\n",
    "    knn = KNeighborsRegressor(n_neighbors = hp, algorithm = 'brute')\n",
    "    knn.fit(train_df[features_cols], train_df[target_col])\n",
    "    predictions = knn.predict(test_df[features_cols])\n",
    "    mse = mean_squared_error(y_true = test_df[target_col], y_pred = predictions)\n",
    "    two_mse_values.append(mse)\n",
    "\n",
    "two_lowest_mse = two_mse_values[0]\n",
    "two_lowest_k   = 1\n",
    "\n",
    "for k,mse in enumerate(two_mse_values, 1):\n",
    "    if mse < two_lowest_mse:\n",
    "        two_lowest_mse = mse\n",
    "        two_lowest_k   = k\n",
    "        \n",
    "two_hyp_mse = {}\n",
    "\n",
    "two_hyp_mse[two_lowest_k] = two_lowest_mse\n",
    "\n",
    "print(two_mse_values)\n",
    "print(two_hyp_mse)"
   ]
  },
  {
   "cell_type": "code",
   "execution_count": 30,
   "metadata": {},
   "outputs": [],
   "source": [
    "two_lowest_mse = two_mse_values[0]\n",
    "two_lowest_k   = 1\n",
    "\n",
    "for k,mse in enumerate(two_mse_values, 1):\n",
    "    if mse < two_lowest_mse:\n",
    "        two_lowest_mse = mse\n",
    "        two_lowest_k   = k\n",
    "        \n",
    "two_hyp_mse = {}\n",
    "\n",
    "two_hyp_mse[two_lowest_k] = two_lowest_mse\n",
    "    "
   ]
  },
  {
   "cell_type": "code",
   "execution_count": 37,
   "metadata": {},
   "outputs": [
    {
     "name": "stdout",
     "output_type": "stream",
     "text": [
      "[25408.530147895337, 19812.082764505118, 15602.043736569334, 14815.615543230944, 13530.432445961322, 13638.665971432181, 13518.769009310208, 13675.870929323095, 14018.185423952586, 14134.482275312856, 14279.987222519954, 14364.687176083931, 14465.56480939206, 14600.373215156369, 14757.011740614333, 14820.643411369454, 14933.477052013337, 14960.796865124512, 14991.266671708912, 15009.39672354949]\n",
      "{7: 13518.769009310208}\n"
     ]
    }
   ],
   "source": [
    "## Repeat this process while using only the accommodates, bathrooms, and bedrooms columns:\n",
    "# Create a dictionary named three_hyp_mse that contains 1 key-value pair:\n",
    "    # key: k value that resulted in lowest MSE value.\n",
    "    # value: corresponding MSE value.\n",
    "\n",
    "## Display both two_hyp_mse and three_hyp_mse using the print() function.\n",
    "\n",
    "import numpy as np\n",
    "from sklearn.neighbors import KNeighborsRegressor\n",
    "from sklearn.metrics import mean_squared_error\n",
    "\n",
    "\n",
    "features_cols = ['accommodates', 'bathrooms', 'bedrooms']\n",
    "target_col    = ['price']\n",
    "\n",
    "hyper_params = [x for x in range(1,21)]\n",
    "three_mse_values   = []\n",
    "\n",
    "for hp in hyper_params:\n",
    "    knn = KNeighborsRegressor(n_neighbors = hp, algorithm = 'brute')\n",
    "    knn.fit(train_df[features_cols], train_df[target_col])\n",
    "    predictions = knn.predict(test_df[features_cols])\n",
    "    mse = mean_squared_error(y_true = test_df[target_col], y_pred = predictions)\n",
    "    three_mse_values.append(mse)\n",
    "\n",
    "print(three_mse_values)\n",
    "\n",
    "three_lowest_mse = three_mse_values[0]\n",
    "three_lowest_k   = 1\n",
    "\n",
    "\n",
    "for k, mse in enumerate(three_mse_values, 1):\n",
    "    if mse < three_lowest_mse:\n",
    "        three_lowest_mse = mse\n",
    "        three_lowest_k   = k\n",
    "\n",
    "three_hyp_mse    = {}\n",
    "\n",
    "three_hyp_mse[three_lowest_k] = three_lowest_mse\n",
    "\n",
    "print(three_hyp_mse)\n",
    "    "
   ]
  },
  {
   "cell_type": "markdown",
   "metadata": {},
   "source": [
    "***\n",
    "### 7) Next Steps\n",
    "The first model, which used the accommodates and bathrooms columns, was able to achieve an MSE value of approximately 14790. The second model, which added the bedrooms column, was able to achieve an MSE value of approximately 13522.9, which is even lower than the lowest MSE value we achieved using the best model from the last mission (which used the accommodates, bedrooms, bathrooms, and number_of_reviews columns). Hopefully this demonstrates that using just one lever to find the best model isn't enough and you really want to use both levers in conjunction.\n",
    "\n",
    "In this mission, we learned about hyperparameter optimization and the workflow of finding the optimal model to make predictions. Next in this course is a challenge, where you'll practice the concepts you've learned so far on a completely new dataset."
   ]
  },
  {
   "cell_type": "code",
   "execution_count": null,
   "metadata": {},
   "outputs": [],
   "source": []
  }
 ],
 "metadata": {
  "kernelspec": {
   "display_name": "Python 3",
   "language": "python",
   "name": "python3"
  },
  "language_info": {
   "codemirror_mode": {
    "name": "ipython",
    "version": 3
   },
   "file_extension": ".py",
   "mimetype": "text/x-python",
   "name": "python",
   "nbconvert_exporter": "python",
   "pygments_lexer": "ipython3",
   "version": "3.7.2"
  }
 },
 "nbformat": 4,
 "nbformat_minor": 2
}
